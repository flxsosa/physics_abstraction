{
 "cells": [
  {
   "cell_type": "code",
   "execution_count": 1,
   "id": "8ef8bab3",
   "metadata": {},
   "outputs": [],
   "source": [
    "import cv2\n",
    "import datetime"
   ]
  },
  {
   "cell_type": "code",
   "execution_count": 30,
   "id": "57da4e6b",
   "metadata": {},
   "outputs": [],
   "source": [
    "videodir = \"stim_2.mp4\"\n",
    "data = cv2.VideoCapture(videodir)"
   ]
  },
  {
   "cell_type": "code",
   "execution_count": 31,
   "id": "00354e0c",
   "metadata": {},
   "outputs": [],
   "source": [
    "frames = data.get(cv2.CAP_PROP_FRAME_COUNT)\n",
    "fps = int(data.get(cv2.CAP_PROP_FPS))"
   ]
  },
  {
   "cell_type": "code",
   "execution_count": 32,
   "id": "f8c0d937",
   "metadata": {},
   "outputs": [
    {
     "name": "stdout",
     "output_type": "stream",
     "text": [
      "duration in milliseconds: 4750.0\n"
     ]
    }
   ],
   "source": [
    "milliseconds = frames / fps * 1000\n",
    "print(\"duration in milliseconds:\", milliseconds)"
   ]
  },
  {
   "cell_type": "code",
   "execution_count": 21,
   "id": "65c5dea2",
   "metadata": {},
   "outputs": [],
   "source": [
    "stim_2_ticks = 285\n",
    "stim_4_ticks = 247\n",
    "stim_6_ticks = 163"
   ]
  },
  {
   "cell_type": "code",
   "execution_count": 23,
   "id": "0dfd2bfe",
   "metadata": {},
   "outputs": [
    {
     "data": {
      "text/plain": [
       "4750.0"
      ]
     },
     "execution_count": 23,
     "metadata": {},
     "output_type": "execute_result"
    }
   ],
   "source": [
    "stim_2_ticks / 60 * 1000"
   ]
  },
  {
   "cell_type": "code",
   "execution_count": 26,
   "id": "f7f6f5ac",
   "metadata": {},
   "outputs": [
    {
     "data": {
      "text/plain": [
       "4116.666666666666"
      ]
     },
     "execution_count": 26,
     "metadata": {},
     "output_type": "execute_result"
    }
   ],
   "source": [
    "stim_4_ticks / 60 * 1000"
   ]
  },
  {
   "cell_type": "code",
   "execution_count": 25,
   "id": "17a0d513",
   "metadata": {},
   "outputs": [
    {
     "data": {
      "text/plain": [
       "2716.666666666667"
      ]
     },
     "execution_count": 25,
     "metadata": {},
     "output_type": "execute_result"
    }
   ],
   "source": [
    "stim_6_ticks / 60 * 1000"
   ]
  },
  {
   "cell_type": "code",
   "execution_count": 2,
   "id": "dddb5482",
   "metadata": {},
   "outputs": [
    {
     "data": {
      "text/plain": [
       "8873"
      ]
     },
     "execution_count": 2,
     "metadata": {},
     "output_type": "execute_result"
    }
   ],
   "source": [
    "import numpy as np\n",
    "len(np.random.randn(8873))"
   ]
  },
  {
   "cell_type": "code",
   "execution_count": null,
   "id": "5e6e4c33",
   "metadata": {},
   "outputs": [],
   "source": []
  }
 ],
 "metadata": {
  "kernelspec": {
   "display_name": "Python 3 (ipykernel)",
   "language": "python",
   "name": "python3"
  },
  "language_info": {
   "codemirror_mode": {
    "name": "ipython",
    "version": 3
   },
   "file_extension": ".py",
   "mimetype": "text/x-python",
   "name": "python",
   "nbconvert_exporter": "python",
   "pygments_lexer": "ipython3",
   "version": "3.10.4"
  },
  "toc": {
   "base_numbering": 1,
   "nav_menu": {},
   "number_sections": true,
   "sideBar": true,
   "skip_h1_title": false,
   "title_cell": "Table of Contents",
   "title_sidebar": "Contents",
   "toc_cell": false,
   "toc_position": {},
   "toc_section_display": true,
   "toc_window_display": false
  },
  "varInspector": {
   "cols": {
    "lenName": 16,
    "lenType": 16,
    "lenVar": 40
   },
   "kernels_config": {
    "python": {
     "delete_cmd_postfix": "",
     "delete_cmd_prefix": "del ",
     "library": "var_list.py",
     "varRefreshCmd": "print(var_dic_list())"
    },
    "r": {
     "delete_cmd_postfix": ") ",
     "delete_cmd_prefix": "rm(",
     "library": "var_list.r",
     "varRefreshCmd": "cat(var_dic_list()) "
    }
   },
   "types_to_exclude": [
    "module",
    "function",
    "builtin_function_or_method",
    "instance",
    "_Feature"
   ],
   "window_display": false
  }
 },
 "nbformat": 4,
 "nbformat_minor": 5
}
