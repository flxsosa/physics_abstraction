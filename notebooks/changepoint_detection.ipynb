{
 "cells": [
  {
   "cell_type": "code",
   "execution_count": 16,
   "id": "c78fc523",
   "metadata": {},
   "outputs": [],
   "source": [
    "import pandas as pd\n",
    "import matplotlib.pyplot as plt\n",
    "import seaborn as sns\n",
    "import os\n",
    "import sys\n",
    "\n",
    "\n",
    "# Appending python modules so we can run simulations\n",
    "sys.path.append(\"../python\")\n",
    "from utility import load_scene\n",
    "from pymunk.vec2d import Vec2d"
   ]
  },
  {
   "cell_type": "markdown",
   "id": "7fb63d61",
   "metadata": {
    "heading_collapsed": true
   },
   "source": [
    "# Import new data"
   ]
  },
  {
   "cell_type": "code",
   "execution_count": 35,
   "id": "262a5110",
   "metadata": {
    "hidden": true
   },
   "outputs": [
    {
     "name": "stdout",
     "output_type": "stream",
     "text": [
      "3227 of 87120 (3.704%) are excluded via 2-SD exclusion\n"
     ]
    }
   ],
   "source": [
    "data_path = \"../experiments/experiment8/data/data.csv\"\n",
    "\n",
    "data = pd.read_csv(data_path)\n",
    "data['experiment_version'] = 4\n",
    "\n",
    "# Removing unused columns from jsPsych\n",
    "data = data.drop(columns=['success','failed_images','failed_audio',\n",
    "                          'failed_video','time_elapsed','scene_sp',\n",
    "                          'internal_node_id','session_id','study_id',\n",
    "                          'value','stimulus','timeout',\n",
    "                          'trial_type'])\n",
    "\n",
    "# Copy dataframe\n",
    "responses = data\n",
    "# Remove attempts column since we no longer are using it\n",
    "responses = responses.drop(columns=['attempts'])\n",
    "# Convert all scene type entries to strings\n",
    "responses.scene_type = responses.scene_type.astype(str)\n",
    "# Retain only the scene type (remove \"_goalpos_\" substring)\n",
    "responses.scene_type = responses.scene_type.apply(lambda x: \"_\".join(x.split('_')[:2]))\n",
    "# Convert all scene entries to strings\n",
    "responses.scene = responses.scene.astype(str)\n",
    "# Retain only the scene name (remove \".mp4\" substring)\n",
    "responses.scene = responses.scene.apply(lambda x: x.split('.')[0])\n",
    "# Remove all tasks that aren't coded as response\n",
    "responses = responses.loc[(responses.task == 'response')]\n",
    "# Remove the task column since we no longer are using it\n",
    "responses = responses.drop(columns=['task'])\n",
    "# Calculate variable-wise z-scores for response time\n",
    "responses['var_zrt'] = responses.groupby('experiment_version').rt.apply(lambda x: (x-x.mean()) / x.std())\n",
    "# Calculate participant-wise z-score for response time\n",
    "responses['part_zrt'] = responses.groupby(['experiment_version','subject_id']).rt.apply(lambda x: (x-x.mean()) / x.std())\n",
    "# Check these z-scores are not equivalent\n",
    "all(responses['var_zrt'] == responses['part_zrt'])\n",
    "# sns.scatterplot(x=\"var_zrt\",y=\"part_zrt\", data=responses) # Should be a straight line if they're the same\n",
    "# Determine number of datapoints lost by outlier exclusion\n",
    "excluded = len(responses) - len(responses[abs(responses.part_zrt) <= 2])\n",
    "print(f\"{excluded} of {len(responses)} ({excluded/len(responses)*100:.4}%) are excluded via 2-SD exclusion\")\n",
    "\n",
    "# Excluding outliers\n",
    "responses = responses[abs(responses.part_zrt) <= 2]"
   ]
  },
  {
   "cell_type": "code",
   "execution_count": 36,
   "id": "2f8430b4",
   "metadata": {
    "hidden": true
   },
   "outputs": [],
   "source": [
    "loaddir = \"../data/json/pilot8/trial/\"\n",
    "json_files = [pos_json for pos_json in os.listdir(loaddir) if pos_json.endswith('.json')]\n",
    "\n",
    "# Dictionary that will contain distance travelled per scenario \n",
    "distances = []\n",
    "\n",
    "# Iterate through stimuli files\n",
    "for scene_json in json_files:\n",
    "    scene_dir = loaddir+scene_json\n",
    "    scene_name = get_scene_name(scene_json)\n",
    "    if 'negative' in scene_name:\n",
    "        collision = False\n",
    "    else:\n",
    "        collision = True\n",
    "    scene = load_scene(scene_dir)\n",
    "    # Extract the origin (the ball's starting position)\n",
    "    origin = scene.args['ball_args'][0]\n",
    "    # Extract the goal position\n",
    "    goal = scene.args['goal_args'][0]\n",
    "    # Convert these points into Vec2d for compatibility with pymunk\n",
    "    origin = Vec2d(*origin)\n",
    "    goal = Vec2d(*goal)\n",
    "    dist = {}\n",
    "    # Compute the distance\n",
    "    dist['distance'] = origin.get_distance(goal)\n",
    "    # Add the scene, distance pair into the dataframe\n",
    "    dist['scene'] = scene_name\n",
    "    dist['collision'] = collision\n",
    "    distances.append(dist)\n",
    "    \n",
    "distances = pd.DataFrame.from_dict(distances)\n",
    "\n",
    "distances['distance'] = distances['distance'].apply(int)"
   ]
  },
  {
   "cell_type": "code",
   "execution_count": 37,
   "id": "5de668f8",
   "metadata": {
    "hidden": true
   },
   "outputs": [],
   "source": [
    "responses = responses.merge(distances, on=\"scene\")"
   ]
  },
  {
   "cell_type": "code",
   "execution_count": 38,
   "id": "153e1389",
   "metadata": {
    "hidden": true
   },
   "outputs": [],
   "source": [
    "responses.to_json('experiment_4_data.json')"
   ]
  },
  {
   "cell_type": "markdown",
   "id": "3d1ce1ea",
   "metadata": {
    "heading_collapsed": true
   },
   "source": [
    "# Helpers"
   ]
  },
  {
   "cell_type": "code",
   "execution_count": 39,
   "id": "e89e227a",
   "metadata": {
    "hidden": true
   },
   "outputs": [],
   "source": [
    "def get_scene_name(file_name):\n",
    "    '''\n",
    "    Returns scene name from file name\n",
    "    '''\n",
    "    return file_name.split(\".\")[0]\n",
    "\n",
    "def get_scene_type(scene_name):\n",
    "    '''\n",
    "    Returns the scene type for a given scene name.\n",
    "    '''\n",
    "    split_name = scene_name.split('_')[:2]\n",
    "    return '_'.join(split_name)"
   ]
  },
  {
   "cell_type": "markdown",
   "id": "b8c0e1a6",
   "metadata": {},
   "source": [
    "# Demo"
   ]
  },
  {
   "cell_type": "code",
   "execution_count": 40,
   "id": "507c5584",
   "metadata": {},
   "outputs": [],
   "source": [
    "data_path_exp3 = \"experiment_4_data.json\"\n",
    "data_exp3 = pd.read_json(data_path_exp3)"
   ]
  },
  {
   "cell_type": "code",
   "execution_count": 47,
   "id": "02735f05",
   "metadata": {},
   "outputs": [
    {
     "name": "stdout",
     "output_type": "stream",
     "text": [
      "315 participants\n"
     ]
    }
   ],
   "source": [
    "print(f'{len(set(data_exp3.subject_id))} participants')"
   ]
  },
  {
   "cell_type": "code",
   "execution_count": 48,
   "id": "b7925086",
   "metadata": {},
   "outputs": [
    {
     "data": {
      "text/plain": [
       "scene_type  collision\n",
       "stim_2      False        102\n",
       "            True         102\n",
       "stim_4      False        109\n",
       "            True         109\n",
       "stim_6      False        106\n",
       "            True         106\n",
       "Name: subject_id, dtype: int64"
      ]
     },
     "execution_count": 48,
     "metadata": {},
     "output_type": "execute_result"
    }
   ],
   "source": [
    "# Number of participants per conditions\n",
    "data_exp3.groupby(['scene_type','collision']).subject_id.apply(lambda x: len(set(x)))"
   ]
  },
  {
   "cell_type": "code",
   "execution_count": 50,
   "id": "025a89c9",
   "metadata": {},
   "outputs": [
    {
     "name": "stdout",
     "output_type": "stream",
     "text": [
      "0.0% of responses removed\n"
     ]
    }
   ],
   "source": [
    "# Only including participants who are correct\n",
    "b = len(data_exp3)\n",
    "data_exp3 = data_exp3.loc[data_exp3.correct]\n",
    "a = len(data_exp3)\n",
    "\n",
    "print(f'{(b-a)/b*100}% of responses removed')"
   ]
  },
  {
   "cell_type": "code",
   "execution_count": 46,
   "id": "716c7b28",
   "metadata": {
    "scrolled": false
   },
   "outputs": [
    {
     "data": {
      "image/png": "[encoded data removed]",
      "text/plain": [
       "<Figure size 810x720 with 6 Axes>"
      ]
     },
     "metadata": {
      "needs_background": "light"
     },
     "output_type": "display_data"
    }
   ],
   "source": [
    "g = sns.relplot(\n",
    "    data=data_exp3,\n",
    "    x=\"distance\", y=\"part_zrt\", \n",
    "    col=\"scene_type\", row=\"collision\",\n",
    "    kind=\"line\",\n",
    "    height=5, aspect=.75, facet_kws=dict(sharex=False),\n",
    ")\n",
    "\n",
    "g.savefig('accuracy_output.pdf')"
   ]
  },
  {
   "cell_type": "markdown",
   "id": "0c06be4a",
   "metadata": {
    "heading_collapsed": true
   },
   "source": [
    "## Within vs between subjects variance"
   ]
  },
  {
   "cell_type": "markdown",
   "id": "cef54a65",
   "metadata": {
    "hidden": true
   },
   "source": [
    "Check variance within participants for each scene, across the n samples and make sure the step is smaller than the noise levels.\n",
    "\n",
    "This will also help us determine "
   ]
  },
  {
   "cell_type": "code",
   "execution_count": 90,
   "id": "51f2dc4b",
   "metadata": {
    "hidden": true
   },
   "outputs": [],
   "source": [
    "scene2data = data_exp3.loc[(data_exp3['scene_type'] == 'stim_2') & (data_exp3['collision'] == True)]"
   ]
  },
  {
   "cell_type": "code",
   "execution_count": 91,
   "id": "0b101f05",
   "metadata": {
    "hidden": true
   },
   "outputs": [
    {
     "name": "stderr",
     "output_type": "stream",
     "text": [
      "/var/folders/ll/n97j7j6n4hl40jzcp14wv24m0000gn/T/ipykernel_79601/1151724925.py:1: SettingWithCopyWarning: \n",
      "A value is trying to be set on a copy of a slice from a DataFrame.\n",
      "Try using .loc[row_indexer,col_indexer] = value instead\n",
      "\n",
      "See the caveats in the documentation: https://pandas.pydata.org/pandas-docs/stable/user_guide/indexing.html#returning-a-view-versus-a-copy\n",
      "  scene2data['repetition'] = scene2data.groupby('subject_id').cumcount().astype(str)\n"
     ]
    }
   ],
   "source": [
    "scene2data['repetition'] = scene2data.groupby('subject_id').cumcount().astype(str)"
   ]
  },
  {
   "cell_type": "code",
   "execution_count": 92,
   "id": "c7fc2713",
   "metadata": {
    "hidden": true
   },
   "outputs": [],
   "source": [
    "scene2data = scene2data[['rt','distance','repetition','subject_id']]"
   ]
  },
  {
   "cell_type": "code",
   "execution_count": 114,
   "id": "bd9acb87",
   "metadata": {
    "hidden": true
   },
   "outputs": [],
   "source": [
    "# Compute the variance in rt for each subject's set of responses per distance\n",
    "var_per_distance_per_sub = scene2data.groupby(['subject_id','distance']).var()"
   ]
  },
  {
   "cell_type": "code",
   "execution_count": 115,
   "id": "c05d7a28",
   "metadata": {
    "hidden": true
   },
   "outputs": [],
   "source": [
    "# Compute the mean of the rt variances per subject per distance\n",
    "within_sub_var = var_per_distance_per_sub.mean()"
   ]
  },
  {
   "cell_type": "code",
   "execution_count": 116,
   "id": "719809c2",
   "metadata": {
    "hidden": true
   },
   "outputs": [],
   "source": [
    "# Compute the mean rt for each subject's set of responses per distance\n",
    "mean_var_per_distance = var_per_distance_per_sub.groupby(['subject_id','distance']).mean()"
   ]
  },
  {
   "cell_type": "code",
   "execution_count": 117,
   "id": "9c7f7373",
   "metadata": {
    "hidden": true
   },
   "outputs": [],
   "source": [
    "# Compute the variances in mean rts for each distance\n",
    "var_per_distance = mean_per_distance.groupby('distance').var()"
   ]
  },
  {
   "cell_type": "code",
   "execution_count": 122,
   "id": "20aef028",
   "metadata": {
    "hidden": true
   },
   "outputs": [],
   "source": [
    "# Compute the mean variance in rt across distances\n",
    "between_sub_var = var_per_distance.mean()"
   ]
  },
  {
   "cell_type": "code",
   "execution_count": 123,
   "id": "e2f2a425",
   "metadata": {
    "hidden": true
   },
   "outputs": [
    {
     "data": {
      "text/plain": [
       "rt    296735.05837\n",
       "dtype: float64"
      ]
     },
     "execution_count": 123,
     "metadata": {},
     "output_type": "execute_result"
    }
   ],
   "source": [
    "within_sub_var"
   ]
  },
  {
   "cell_type": "code",
   "execution_count": 124,
   "id": "2207fa33",
   "metadata": {
    "hidden": true
   },
   "outputs": [
    {
     "data": {
      "text/plain": [
       "rt    3.625460e+12\n",
       "dtype: float64"
      ]
     },
     "execution_count": 124,
     "metadata": {},
     "output_type": "execute_result"
    }
   ],
   "source": [
    "between_sub_var"
   ]
  },
  {
   "cell_type": "markdown",
   "id": "baa634f5",
   "metadata": {},
   "source": [
    "# Smoothing"
   ]
  },
  {
   "cell_type": "code",
   "execution_count": 51,
   "id": "1046fd26",
   "metadata": {},
   "outputs": [],
   "source": [
    "import numpy as np\n",
    "import matplotlib.pyplot as plt"
   ]
  },
  {
   "cell_type": "code",
   "execution_count": 52,
   "id": "4096d021",
   "metadata": {},
   "outputs": [
    {
     "data": {
      "text/plain": [
       "<BarContainer object of 40 artists>"
      ]
     },
     "execution_count": 52,
     "metadata": {},
     "output_type": "execute_result"
    },
    {
     "data": {
      "image/png": "[encoded data removed]",
      "text/plain": [
       "<Figure size 432x288 with 1 Axes>"
      ]
     },
     "metadata": {
      "needs_background": "light"
     },
     "output_type": "display_data"
    }
   ],
   "source": [
    "n_points = 40\n",
    "x_vals = np.arange(n_points)\n",
    "y_vals = np.random.normal(size=n_points)\n",
    "plt.bar(x_vals, y_vals)"
   ]
  },
  {
   "cell_type": "code",
   "execution_count": 53,
   "id": "a7523566",
   "metadata": {},
   "outputs": [
    {
     "data": {
      "text/plain": [
       "[<matplotlib.lines.Line2D at 0x2a7f2c3d0>]"
      ]
     },
     "execution_count": 53,
     "metadata": {},
     "output_type": "execute_result"
    },
    {
     "data": {
      "image/png": "[encoded data removed]",
      "text/plain": [
       "<Figure size 432x288 with 1 Axes>"
      ]
     },
     "metadata": {
      "needs_background": "light"
     },
     "output_type": "display_data"
    }
   ],
   "source": [
    "x = np.arange(-6,6,0.1)\n",
    "y = 1 / np.sqrt(2 * np.pi) * np.exp(-x ** 2/2.)\n",
    "plt.plot(x,y)"
   ]
  },
  {
   "cell_type": "code",
   "execution_count": 54,
   "id": "6840abee",
   "metadata": {},
   "outputs": [],
   "source": [
    "def sigma2fwhm(sigma):\n",
    "    return sigma * np.sqrt(8 * np.log(2))"
   ]
  },
  {
   "cell_type": "code",
   "execution_count": 55,
   "id": "662324a8",
   "metadata": {},
   "outputs": [],
   "source": [
    "def fwhm2sigma(fwhm):\n",
    "    return fwhm / np.sqrt(8 * np.log(2))"
   ]
  },
  {
   "cell_type": "code",
   "execution_count": 56,
   "id": "1561a682",
   "metadata": {},
   "outputs": [
    {
     "data": {
      "text/plain": [
       "<BarContainer object of 40 artists>"
      ]
     },
     "execution_count": 56,
     "metadata": {},
     "output_type": "execute_result"
    },
    {
     "data": {
      "image/png": "[encoded data removed]",
      "text/plain": [
       "<Figure size 432x288 with 1 Axes>"
      ]
     },
     "metadata": {
      "needs_background": "light"
     },
     "output_type": "display_data"
    }
   ],
   "source": [
    "FWHM = 4\n",
    "sigma = fwhm2sigma(FWHM)\n",
    "x_position = 13\n",
    "kernel_at_pos = np.exp(-(x_vals - x_position) ** 2 / (2 * sigma ** 2))\n",
    "kernel_at_pos = kernel_at_pos / sum(kernel_at_pos)\n",
    "plt.bar(x_vals, kernel_at_pos)"
   ]
  },
  {
   "cell_type": "code",
   "execution_count": 57,
   "id": "7a0350fb",
   "metadata": {},
   "outputs": [
    {
     "data": {
      "text/plain": [
       "array([0.11742966, 0.19749236, 0.23485932, 0.19749236, 0.11742966])"
      ]
     },
     "execution_count": 57,
     "metadata": {},
     "output_type": "execute_result"
    }
   ],
   "source": [
    "kernel_at_pos[11:16]"
   ]
  },
  {
   "cell_type": "code",
   "execution_count": 58,
   "id": "34ca078b",
   "metadata": {},
   "outputs": [
    {
     "data": {
      "text/plain": [
       "array([-0.40531441, -1.24796164,  0.99575378,  1.43205678, -0.07677702])"
      ]
     },
     "execution_count": 58,
     "metadata": {},
     "output_type": "execute_result"
    }
   ],
   "source": [
    "y_vals[11:16]"
   ]
  },
  {
   "cell_type": "code",
   "execution_count": 60,
   "id": "e1cfdd5f",
   "metadata": {},
   "outputs": [],
   "source": [
    "y_by_weight = y_vals * kernel_at_pos"
   ]
  },
  {
   "cell_type": "code",
   "execution_count": 61,
   "id": "dd54d255",
   "metadata": {},
   "outputs": [],
   "source": [
    "new_val = sum(y_by_weight)"
   ]
  },
  {
   "cell_type": "code",
   "execution_count": 62,
   "id": "e7882b91",
   "metadata": {},
   "outputs": [
    {
     "data": {
      "text/plain": [
       "0.382378609732717"
      ]
     },
     "execution_count": 62,
     "metadata": {},
     "output_type": "execute_result"
    }
   ],
   "source": [
    "new_val"
   ]
  },
  {
   "cell_type": "code",
   "execution_count": 63,
   "id": "d97de363",
   "metadata": {},
   "outputs": [
    {
     "data": {
      "text/plain": [
       "<BarContainer object of 40 artists>"
      ]
     },
     "execution_count": 63,
     "metadata": {},
     "output_type": "execute_result"
    },
    {
     "data": {
      "image/png": "[encoded data removed]",
      "text/plain": [
       "<Figure size 432x288 with 1 Axes>"
      ]
     },
     "metadata": {
      "needs_background": "light"
     },
     "output_type": "display_data"
    }
   ],
   "source": [
    "smoothed_vals = np.zeros(y_vals.shape)\n",
    "for x_position in x_vals:\n",
    "    kernel = np.exp(-(x_vals - x_position) ** 2 / (2 * sigma ** 2))\n",
    "    kernel = kernel / sum(kernel)\n",
    "    smoothed_vals[x_position] = sum(y_vals * kernel)\n",
    "plt.bar(x_vals, smoothed_vals)"
   ]
  },
  {
   "cell_type": "code",
   "execution_count": 66,
   "id": "60a9eb5c",
   "metadata": {},
   "outputs": [
    {
     "data": {
      "text/plain": [
       "40"
      ]
     },
     "execution_count": 66,
     "metadata": {},
     "output_type": "execute_result"
    }
   ],
   "source": [
    "len(y_vals)"
   ]
  },
  {
   "cell_type": "code",
   "execution_count": 67,
   "id": "c11a997f",
   "metadata": {},
   "outputs": [
    {
     "data": {
      "text/plain": [
       "40"
      ]
     },
     "execution_count": 67,
     "metadata": {},
     "output_type": "execute_result"
    }
   ],
   "source": [
    "len(smoothed_vals)"
   ]
  },
  {
   "cell_type": "code",
   "execution_count": 75,
   "id": "b14f1265",
   "metadata": {},
   "outputs": [],
   "source": [
    "x_vals = np.array(data_exp3.distance)"
   ]
  },
  {
   "cell_type": "code",
   "execution_count": 76,
   "id": "c4773ee6",
   "metadata": {},
   "outputs": [],
   "source": [
    "y_vals = np.array(data_exp3.part_zrt)"
   ]
  },
  {
   "cell_type": "code",
   "execution_count": 78,
   "id": "1727837e",
   "metadata": {},
   "outputs": [],
   "source": [
    "smoothed_vals = np.zeros(y_vals.shape)\n",
    "for x_position in x_vals:\n",
    "    kernel = np.exp(-(x_vals - x_position) ** 2 / (2 * sigma ** 2))\n",
    "    kernel = kernel / sum(kernel)\n",
    "    smoothed_vals[x_position] = sum(y_vals * kernel)"
   ]
  },
  {
   "cell_type": "code",
   "execution_count": 79,
   "id": "ace9f8e7",
   "metadata": {},
   "outputs": [
    {
     "data": {
      "text/plain": [
       "66079"
      ]
     },
     "execution_count": 79,
     "metadata": {},
     "output_type": "execute_result"
    }
   ],
   "source": [
    "len(smoothed_vals)"
   ]
  },
  {
   "cell_type": "code",
   "execution_count": 80,
   "id": "a7d032db",
   "metadata": {},
   "outputs": [
    {
     "data": {
      "text/plain": [
       "66079"
      ]
     },
     "execution_count": 80,
     "metadata": {},
     "output_type": "execute_result"
    }
   ],
   "source": [
    "data = pd.DataFrame({\"distance\":x_vals, \"\"})"
   ]
  },
  {
   "cell_type": "code",
   "execution_count": 83,
   "id": "81b4d922",
   "metadata": {},
   "outputs": [
    {
     "data": {
      "text/plain": [
       "array([0., 0., 0., ..., 0., 0., 0.])"
      ]
     },
     "execution_count": 83,
     "metadata": {},
     "output_type": "execute_result"
    }
   ],
   "source": [
    "from sklearn.gaussian_process import GaussianProcessRegressor\n",
    "from sklearn.gaussian_process.kernels import RBF\n",
    "from sklearn.datasets import make_regression\n",
    "import numpy as np\n",
    "\n",
    "# dummy data:\n",
    "X, y = make_regression(n_samples=20, n_features=5, n_targets=1)\n",
    "\n",
    "# (20, 5)\n",
    "\n",
    "kernel = RBF(length_scale=1.0, length_scale_bounds=(1e-1, 10.0))\n",
    "gp = GaussianProcessRegressor(kernel=kernel)\n",
    "gp.fit(X, y)\n",
    "# GaussianProcessRegressor(alpha=1e-10, copy_X_train=True,\n",
    "#             kernel=RBF((length_scale=1), n_restarts_optimizer=0,\n",
    "#             normalize_y=False, optimizer='fmin_l_bfgs_b',\n",
    "#             random_state=None)"
   ]
  },
  {
   "cell_type": "code",
   "execution_count": 132,
   "id": "4e851d69",
   "metadata": {},
   "outputs": [
    {
     "data": {
      "text/plain": [
       "subject_id\n",
       "577cc873092b09000179c3e6    [-0.32742296, 1.4215485519, -0.405555708, 0.38...\n",
       "5865dd647fbbcd00013973b8    [0.1411385308, 0.22060655980000002, 0.14113853...\n",
       "58b718c7e38022000152c828    [1.1282772017, -0.2386106829, 0.39954480540000...\n",
       "58f93198dbfafa0001d227c9    [0.2919379503, 0.2919379503, -1.4091575513, -1...\n",
       "5a7659fd8fe2dc00010573be    [-0.1105686352, -0.4138312797, -0.6873622924, ...\n",
       "                                                  ...                        \n",
       "624e10e161a702342a781a11    [-0.2069294683, 0.23702527680000002, -0.241847...\n",
       "63065979b2924e563b2fcd4a    [-1.0809265966, -1.0809265966, -0.2122502899, ...\n",
       "63065b27cb33913a4c7a11f6    [-0.5633581837, 0.1490447285, -0.8135679870000...\n",
       "63164797edf52e6db52f066a    [-0.48763589999999996, -0.2189002484, -0.36030...\n",
       "636546d0648b922d14056683    [0.37923024520000004, -1.1436819906, -1.410859...\n",
       "Name: part_zrt, Length: 315, dtype: object"
      ]
     },
     "execution_count": 132,
     "metadata": {},
     "output_type": "execute_result"
    }
   ],
   "source": [
    "y_vals = data_exp3.groupby('subject_id').part_zrt.apply(np.array)\n",
    "y_vals"
   ]
  },
  {
   "cell_type": "code",
   "execution_count": 131,
   "id": "75c10ae4",
   "metadata": {},
   "outputs": [
    {
     "ename": "AttributeError",
     "evalue": "'list' object has no attribute 'shape'",
     "output_type": "error",
     "traceback": [
      "\u001b[0;31m---------------------------------------------------------------------------\u001b[0m",
      "\u001b[0;31mAttributeError\u001b[0m                            Traceback (most recent call last)",
      "Input \u001b[0;32mIn [131]\u001b[0m, in \u001b[0;36m<cell line: 2>\u001b[0;34m()\u001b[0m\n\u001b[1;32m      1\u001b[0m y_vals \u001b[38;5;241m=\u001b[39m [l \u001b[38;5;28;01mfor\u001b[39;00m l \u001b[38;5;129;01min\u001b[39;00m y_vals]\n\u001b[0;32m----> 2\u001b[0m \u001b[43my_vals\u001b[49m\u001b[38;5;241;43m.\u001b[39;49m\u001b[43mshape\u001b[49m\n",
      "\u001b[0;31mAttributeError\u001b[0m: 'list' object has no attribute 'shape'"
     ]
    }
   ],
   "source": [
    "y_vals = [l for l in y_vals]\n",
    "y_vals.shape"
   ]
  },
  {
   "cell_type": "code",
   "execution_count": 133,
   "id": "48bd917f",
   "metadata": {},
   "outputs": [],
   "source": [
    "x = np.concatenate(y_vals, axis=0)"
   ]
  },
  {
   "cell_type": "code",
   "execution_count": null,
   "id": "c74d801f",
   "metadata": {},
   "outputs": [],
   "source": []
  },
  {
   "cell_type": "code",
   "execution_count": 134,
   "id": "db5ff346",
   "metadata": {},
   "outputs": [
    {
     "data": {
      "text/plain": [
       "(66079,)"
      ]
     },
     "execution_count": 134,
     "metadata": {},
     "output_type": "execute_result"
    }
   ],
   "source": [
    "x.shape"
   ]
  },
  {
   "cell_type": "code",
   "execution_count": null,
   "id": "4ede7a38",
   "metadata": {},
   "outputs": [],
   "source": []
  }
 ],
 "metadata": {
  "kernelspec": {
   "display_name": "Python 3 (ipykernel)",
   "language": "python",
   "name": "python3"
  },
  "language_info": {
   "codemirror_mode": {
    "name": "ipython",
    "version": 3
   },
   "file_extension": ".py",
   "mimetype": "text/x-python",
   "name": "python",
   "nbconvert_exporter": "python",
   "pygments_lexer": "ipython3",
   "version": "3.10.2"
  },
  "toc": {
   "base_numbering": 1,
   "nav_menu": {},
   "number_sections": true,
   "sideBar": true,
   "skip_h1_title": false,
   "title_cell": "Table of Contents",
   "title_sidebar": "Contents",
   "toc_cell": false,
   "toc_position": {},
   "toc_section_display": true,
   "toc_window_display": false
  },
  "varInspector": {
   "cols": {
    "lenName": 16,
    "lenType": 16,
    "lenVar": 40
   },
   "kernels_config": {
    "python": {
     "delete_cmd_postfix": "",
     "delete_cmd_prefix": "del ",
     "library": "var_list.py",
     "varRefreshCmd": "print(var_dic_list())"
    },
    "r": {
     "delete_cmd_postfix": ") ",
     "delete_cmd_prefix": "rm(",
     "library": "var_list.r",
     "varRefreshCmd": "cat(var_dic_list()) "
    }
   },
   "types_to_exclude": [
    "module",
    "function",
    "builtin_function_or_method",
    "instance",
    "_Feature"
   ],
   "window_display": false
  }
 },
 "nbformat": 4,
 "nbformat_minor": 5
}
