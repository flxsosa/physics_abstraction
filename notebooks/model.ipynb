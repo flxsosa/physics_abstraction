{
 "cells": [
  {
   "cell_type": "markdown",
   "id": "c139e8a5",
   "metadata": {},
   "source": [
    "# Imports"
   ]
  },
  {
   "cell_type": "code",
   "execution_count": 27,
   "id": "1af9fa27",
   "metadata": {},
   "outputs": [],
   "source": [
    "import pandas as pd\n",
    "import pymc3 as pm\n",
    "import numpy as np\n",
    "import os\n",
    "import sys\n",
    "import json\n",
    "import theano.tensor as tt\n",
    "import arviz as az\n",
    "sys.path.insert(0, os.path.abspath('../python'))"
   ]
  },
  {
   "cell_type": "markdown",
   "id": "8f32e788",
   "metadata": {},
   "source": [
    "# Load data"
   ]
  },
  {
   "cell_type": "markdown",
   "id": "430b2a52",
   "metadata": {},
   "source": [
    "## Empirical data"
   ]
  },
  {
   "cell_type": "code",
   "execution_count": 2,
   "id": "dda5e0cc",
   "metadata": {},
   "outputs": [],
   "source": [
    "datadir = \"../experiments/experiment3/data/cleaned_data.json\"\n",
    "data = pd.read_json(datadir)"
   ]
  },
  {
   "cell_type": "code",
   "execution_count": 3,
   "id": "c6b43280",
   "metadata": {},
   "outputs": [
    {
     "data": {
      "text/html": [
       "<div>\n",
       "<style scoped>\n",
       "    .dataframe tbody tr th:only-of-type {\n",
       "        vertical-align: middle;\n",
       "    }\n",
       "\n",
       "    .dataframe tbody tr th {\n",
       "        vertical-align: top;\n",
       "    }\n",
       "\n",
       "    .dataframe thead th {\n",
       "        text-align: right;\n",
       "    }\n",
       "</style>\n",
       "<table border=\"1\" class=\"dataframe\">\n",
       "  <thead>\n",
       "    <tr style=\"text-align: right;\">\n",
       "      <th></th>\n",
       "      <th>trial_index</th>\n",
       "      <th>subject_id</th>\n",
       "      <th>exp_condition</th>\n",
       "      <th>rt</th>\n",
       "      <th>response_</th>\n",
       "      <th>task</th>\n",
       "      <th>correct_response</th>\n",
       "      <th>correct</th>\n",
       "      <th>task_condition</th>\n",
       "      <th>scene</th>\n",
       "      <th>...</th>\n",
       "      <th>zlogrt</th>\n",
       "      <th>trial_condition</th>\n",
       "      <th>response</th>\n",
       "      <th>participant_accuracy</th>\n",
       "      <th>trial_accuracy</th>\n",
       "      <th>scene_accuracy</th>\n",
       "      <th>sim_time</th>\n",
       "      <th>collision</th>\n",
       "      <th>straight_path</th>\n",
       "      <th>3</th>\n",
       "    </tr>\n",
       "  </thead>\n",
       "  <tbody>\n",
       "    <tr>\n",
       "      <th>0</th>\n",
       "      <td>0</td>\n",
       "      <td>61716480d6da1714ff60ed0d</td>\n",
       "      <td>j</td>\n",
       "      <td>884</td>\n",
       "      <td>f</td>\n",
       "      <td>response</td>\n",
       "      <td>f</td>\n",
       "      <td>True</td>\n",
       "      <td>No</td>\n",
       "      <td>low_nocol_yessp_1</td>\n",
       "      <td>...</td>\n",
       "      <td>-0.681529</td>\n",
       "      <td>No</td>\n",
       "      <td>No</td>\n",
       "      <td>0.895833</td>\n",
       "      <td>0.765957</td>\n",
       "      <td>0.936170</td>\n",
       "      <td>low</td>\n",
       "      <td>nocol</td>\n",
       "      <td>yessp</td>\n",
       "      <td>1.mp4</td>\n",
       "    </tr>\n",
       "    <tr>\n",
       "      <th>1</th>\n",
       "      <td>1</td>\n",
       "      <td>61716480d6da1714ff60ed0d</td>\n",
       "      <td>j</td>\n",
       "      <td>726</td>\n",
       "      <td>f</td>\n",
       "      <td>response</td>\n",
       "      <td>j</td>\n",
       "      <td>False</td>\n",
       "      <td>Yes</td>\n",
       "      <td>low_yescol_yessp_2</td>\n",
       "      <td>...</td>\n",
       "      <td>-1.182728</td>\n",
       "      <td>Yes</td>\n",
       "      <td>No</td>\n",
       "      <td>0.895833</td>\n",
       "      <td>0.702128</td>\n",
       "      <td>0.872340</td>\n",
       "      <td>low</td>\n",
       "      <td>yescol</td>\n",
       "      <td>yessp</td>\n",
       "      <td>2.mp4</td>\n",
       "    </tr>\n",
       "    <tr>\n",
       "      <th>2</th>\n",
       "      <td>2</td>\n",
       "      <td>61716480d6da1714ff60ed0d</td>\n",
       "      <td>j</td>\n",
       "      <td>885</td>\n",
       "      <td>f</td>\n",
       "      <td>response</td>\n",
       "      <td>f</td>\n",
       "      <td>True</td>\n",
       "      <td>No</td>\n",
       "      <td>low_nocol_nosp_2</td>\n",
       "      <td>...</td>\n",
       "      <td>-0.678651</td>\n",
       "      <td>No</td>\n",
       "      <td>No</td>\n",
       "      <td>0.895833</td>\n",
       "      <td>0.914894</td>\n",
       "      <td>0.893617</td>\n",
       "      <td>low</td>\n",
       "      <td>nocol</td>\n",
       "      <td>nosp</td>\n",
       "      <td>2.mp4</td>\n",
       "    </tr>\n",
       "    <tr>\n",
       "      <th>3</th>\n",
       "      <td>3</td>\n",
       "      <td>61716480d6da1714ff60ed0d</td>\n",
       "      <td>j</td>\n",
       "      <td>981</td>\n",
       "      <td>f</td>\n",
       "      <td>response</td>\n",
       "      <td>f</td>\n",
       "      <td>True</td>\n",
       "      <td>No</td>\n",
       "      <td>med_nocol_nosp_3</td>\n",
       "      <td>...</td>\n",
       "      <td>-0.416518</td>\n",
       "      <td>No</td>\n",
       "      <td>No</td>\n",
       "      <td>0.895833</td>\n",
       "      <td>0.787234</td>\n",
       "      <td>0.914894</td>\n",
       "      <td>med</td>\n",
       "      <td>nocol</td>\n",
       "      <td>nosp</td>\n",
       "      <td>3.mp4</td>\n",
       "    </tr>\n",
       "    <tr>\n",
       "      <th>4</th>\n",
       "      <td>4</td>\n",
       "      <td>61716480d6da1714ff60ed0d</td>\n",
       "      <td>j</td>\n",
       "      <td>1189</td>\n",
       "      <td>j</td>\n",
       "      <td>response</td>\n",
       "      <td>j</td>\n",
       "      <td>True</td>\n",
       "      <td>Yes</td>\n",
       "      <td>high_yescol_yessp_2</td>\n",
       "      <td>...</td>\n",
       "      <td>0.072943</td>\n",
       "      <td>Yes</td>\n",
       "      <td>Yes</td>\n",
       "      <td>0.895833</td>\n",
       "      <td>0.893617</td>\n",
       "      <td>1.000000</td>\n",
       "      <td>high</td>\n",
       "      <td>yescol</td>\n",
       "      <td>yessp</td>\n",
       "      <td>2.mp4</td>\n",
       "    </tr>\n",
       "  </tbody>\n",
       "</table>\n",
       "<p>5 rows × 27 columns</p>\n",
       "</div>"
      ],
      "text/plain": [
       "   trial_index                subject_id exp_condition    rt response_  \\\n",
       "0            0  61716480d6da1714ff60ed0d             j   884         f   \n",
       "1            1  61716480d6da1714ff60ed0d             j   726         f   \n",
       "2            2  61716480d6da1714ff60ed0d             j   885         f   \n",
       "3            3  61716480d6da1714ff60ed0d             j   981         f   \n",
       "4            4  61716480d6da1714ff60ed0d             j  1189         j   \n",
       "\n",
       "       task correct_response  correct task_condition                scene  \\\n",
       "0  response                f     True             No    low_nocol_yessp_1   \n",
       "1  response                j    False            Yes   low_yescol_yessp_2   \n",
       "2  response                f     True             No     low_nocol_nosp_2   \n",
       "3  response                f     True             No     med_nocol_nosp_3   \n",
       "4  response                j     True            Yes  high_yescol_yessp_2   \n",
       "\n",
       "   ...    zlogrt  trial_condition response participant_accuracy  \\\n",
       "0  ... -0.681529               No       No             0.895833   \n",
       "1  ... -1.182728              Yes       No             0.895833   \n",
       "2  ... -0.678651               No       No             0.895833   \n",
       "3  ... -0.416518               No       No             0.895833   \n",
       "4  ...  0.072943              Yes      Yes             0.895833   \n",
       "\n",
       "   trial_accuracy  scene_accuracy  sim_time  collision straight_path      3  \n",
       "0        0.765957        0.936170       low      nocol         yessp  1.mp4  \n",
       "1        0.702128        0.872340       low     yescol         yessp  2.mp4  \n",
       "2        0.914894        0.893617       low      nocol          nosp  2.mp4  \n",
       "3        0.787234        0.914894       med      nocol          nosp  3.mp4  \n",
       "4        0.893617        1.000000      high     yescol         yessp  2.mp4  \n",
       "\n",
       "[5 rows x 27 columns]"
      ]
     },
     "execution_count": 3,
     "metadata": {},
     "output_type": "execute_result"
    }
   ],
   "source": [
    "data.head()"
   ]
  },
  {
   "cell_type": "markdown",
   "id": "8f2fa5de",
   "metadata": {},
   "source": [
    "## Scene arguments"
   ]
  },
  {
   "cell_type": "code",
   "execution_count": 4,
   "id": "37ca5d00",
   "metadata": {},
   "outputs": [],
   "source": [
    "scenedir = \"../data/json/pilot3/\"\n",
    "scene_files = [scene_json for scene_json in os.listdir(scenedir) if scene_json.endswith('.json')]"
   ]
  },
  {
   "cell_type": "code",
   "execution_count": 5,
   "id": "da04da42",
   "metadata": {},
   "outputs": [],
   "source": [
    "# Used in my_model\n",
    "scene_args = {}\n",
    "for file in scene_files:\n",
    "    with open(scenedir+file, 'r') as f:\n",
    "        sargs = (json.loads(f.read()))\n",
    "        scene_args[sargs['name'].split(\".\")[0]] = sargs"
   ]
  },
  {
   "cell_type": "markdown",
   "id": "dc0e8421",
   "metadata": {},
   "source": [
    "# Model"
   ]
  },
  {
   "cell_type": "code",
   "execution_count": 11,
   "id": "fe45eb77",
   "metadata": {
    "code_folding": []
   },
   "outputs": [],
   "source": [
    "from models import abstraction_simulation_pp\n",
    "\n",
    "def my_model(theta,x):\n",
    "    '''\n",
    "    :param theta: Expected theta == [N, D, E]\n",
    "    :param x: Expected list of scene arguments\n",
    "    '''\n",
    "    # Unpack model params\n",
    "    N,D,E = theta\n",
    "    # Model predictions\n",
    "    y_pred = []\n",
    "    # Get model predictins for each scene\n",
    "    for scene in x:\n",
    "        y_pred.append(abstraction_simulation_pp(scene_args[scene],int(N),D,E))\n",
    "    # Convert to array\n",
    "    y_pred = np.array(y_pred)\n",
    "    return y_pred"
   ]
  },
  {
   "cell_type": "code",
   "execution_count": 7,
   "id": "fd636c23",
   "metadata": {
    "code_folding": []
   },
   "outputs": [],
   "source": [
    "# The loglikelihood function\n",
    "def log_likelihood(theta, x, data, sigma):\n",
    "    '''\n",
    "    Normal log-likelihoood\n",
    "    \n",
    "    :param data: Empirical repsonse times\n",
    "    :param sigma: Empirical response time stddev\n",
    "    :param x: Scene arguments, expected: [scene_1,scene2,...]\n",
    "    :param theta: Model parameters, expected: [N,D,E]\n",
    "    '''\n",
    "    \n",
    "    # Model simulation times\n",
    "    y_pred = my_model(theta,x)\n",
    "    \n",
    "    # Divergence from data\n",
    "    retval = -(0.5 / sigma ** 2) * np.sum((data - y_pred) ** 2)\n",
    "    return retval"
   ]
  },
  {
   "cell_type": "code",
   "execution_count": 8,
   "id": "7a7f2fb5",
   "metadata": {},
   "outputs": [],
   "source": [
    "# define a theano Op for our likelihood function\n",
    "class LogLike(tt.Op):\n",
    "    itypes = [tt.dvector]  # expects a vector of parameter values when called\n",
    "    otypes = [tt.dscalar]  # outputs a single scalar value (the log likelihood)\n",
    "\n",
    "    def __init__(self, loglike, data, x, sigma):\n",
    "        # add inputs as class attributes\n",
    "        self.likelihood = loglike\n",
    "        self.data = data\n",
    "        self.x = x\n",
    "        self.sigma = sigma\n",
    "\n",
    "    def perform(self, node, inputs, outputs):\n",
    "        # the method that is used when calling the Op\n",
    "        (theta,) = inputs  # this will contain my variables\n",
    "\n",
    "        # call the log-likelihood function\n",
    "        logl = self.likelihood(theta, self.x, self.data, self.sigma)\n",
    "\n",
    "        outputs[0][0] = np.array(logl)  # output the log-likelihood"
   ]
  },
  {
   "cell_type": "code",
   "execution_count": 9,
   "id": "80edb942",
   "metadata": {},
   "outputs": [],
   "source": [
    "# Observed RT\n",
    "RT_y_mean = data.groupby('scene').rt.apply(np.mean)\n",
    "RT_y_std = data.groupby('scene').rt.apply(np.std).mean()\n",
    "RT_x = RT_y_mean.index.to_list()"
   ]
  },
  {
   "cell_type": "code",
   "execution_count": 12,
   "id": "2cb33ac2",
   "metadata": {
    "scrolled": false
   },
   "outputs": [],
   "source": [
    "abstraction_model = pm.Model()\n",
    "loglike = LogLike(log_likelihood,RT_y_mean,RT_x,RT_y_std)\n",
    "\n",
    "with abstraction_model:\n",
    "    # Priors on model parameters\n",
    "    # Number of samples to take from simulator\n",
    "    N = pm.DiscreteUniform(\"N\",lower=1,upper=25)\n",
    "    # Length of path projection\n",
    "    D = pm.TruncatedNormal(\"D\",sigma=10, lower=20)\n",
    "    # Cosine similarity threshold\n",
    "    E = pm.TruncatedNormal(\"E\",sigma=0.1,lower=0,upper=1)\n",
    "    \n",
    "    theta = tt.as_tensor_variable([N,D,E])\n",
    "    \n",
    "    pm.Potential(\"likelihood\",loglike(theta))\n",
    "    "
   ]
  },
  {
   "cell_type": "code",
   "execution_count": 24,
   "id": "69ed3a2d",
   "metadata": {},
   "outputs": [],
   "source": [
    "ndraws = 1000  # number of draws from the distribution\n",
    "nburn = 1000  # number of \"burn-in points\" (which we'll discard)"
   ]
  },
  {
   "cell_type": "code",
   "execution_count": 25,
   "id": "857dff3a",
   "metadata": {},
   "outputs": [
    {
     "name": "stderr",
     "output_type": "stream",
     "text": [
      "/var/folders/6l/1kj5v3gx7r3264z3jy47_43c0000gn/T/ipykernel_2952/1716333079.py:2: FutureWarning: In v4.0, pm.sample will return an `arviz.InferenceData` object instead of a `MultiTrace` by default. You can pass return_inferencedata=True or return_inferencedata=False to be safe and silence this warning.\n",
      "  trace = pm.sample(ndraws,chains=1, cores=1, tune=nburn, discard_tuned_samples=True, step=pm.Metropolis())\n",
      "Sequential sampling (1 chains in 1 job)\n",
      "INFO:pymc3:Sequential sampling (1 chains in 1 job)\n",
      "CompoundStep\n",
      "INFO:pymc3:CompoundStep\n",
      ">Metropolis: [E]\n",
      "INFO:pymc3:>Metropolis: [E]\n",
      ">Metropolis: [D]\n",
      "INFO:pymc3:>Metropolis: [D]\n",
      ">Metropolis: [N]\n",
      "INFO:pymc3:>Metropolis: [N]\n"
     ]
    },
    {
     "data": {
      "text/html": [
       "\n",
       "    <div>\n",
       "        <style>\n",
       "            /* Turns off some styling */\n",
       "            progress {\n",
       "                /* gets rid of default border in Firefox and Opera. */\n",
       "                border: none;\n",
       "                /* Needs to be in here for Safari polyfill so background images work as expected. */\n",
       "                background-size: auto;\n",
       "            }\n",
       "            .progress-bar-interrupted, .progress-bar-interrupted::-webkit-progress-bar {\n",
       "                background: #F44336;\n",
       "            }\n",
       "        </style>\n",
       "      <progress value='2000' class='' max='2000' style='width:300px; height:20px; vertical-align: middle;'></progress>\n",
       "      100.00% [2000/2000 1:41:23<00:00 Sampling chain 0, 0 divergences]\n",
       "    </div>\n",
       "    "
      ],
      "text/plain": [
       "<IPython.core.display.HTML object>"
      ]
     },
     "metadata": {},
     "output_type": "display_data"
    },
    {
     "name": "stderr",
     "output_type": "stream",
     "text": [
      "Sampling 1 chain for 1_000 tune and 1_000 draw iterations (1_000 + 1_000 draws total) took 6084 seconds.\n",
      "INFO:pymc3:Sampling 1 chain for 1_000 tune and 1_000 draw iterations (1_000 + 1_000 draws total) took 6084 seconds.\n",
      "/usr/local/Caskroom/miniconda/base/lib/python3.8/site-packages/arviz/data/base.py:169: UserWarning: More chains (1000) than draws (3). Passed array should have shape (chains, draws, *shape)\n",
      "  warnings.warn(\n",
      "Only one chain was sampled, this makes it impossible to run some convergence checks\n",
      "INFO:pymc3:Only one chain was sampled, this makes it impossible to run some convergence checks\n",
      "arviz - WARNING - Shape validation failed: input_shape: (1, 1000), minimum_shape: (chains=2, draws=4)\n"
     ]
    },
    {
     "name": "stdout",
     "output_type": "stream",
     "text": [
      "     mean     sd  hdi_3%  hdi_97%  mcse_mean  mcse_sd  ess_bulk  ess_tail  r_hat\n",
      "N  24.894  0.339  24.000   25.000      0.030    0.021     128.0     132.0    NaN\n",
      "D  20.280  0.267  20.001   20.752      0.018    0.012     205.0     297.0    NaN\n",
      "E   0.078  0.063   0.000    0.197      0.004    0.003     148.0      91.0    NaN\n"
     ]
    }
   ],
   "source": [
    "with abstraction_model:\n",
    "    trace = pm.sample(ndraws,chains=1, cores=1, tune=nburn, discard_tuned_samples=True, step=pm.Metropolis())\n",
    "    print(pm.summary(trace).to_string())"
   ]
  },
  {
   "cell_type": "code",
   "execution_count": 28,
   "id": "5fd7b265",
   "metadata": {},
   "outputs": [
    {
     "name": "stderr",
     "output_type": "stream",
     "text": [
      "/usr/local/Caskroom/miniconda/base/lib/python3.8/site-packages/arviz/data/base.py:169: UserWarning: More chains (1000) than draws (3). Passed array should have shape (chains, draws, *shape)\n",
      "  warnings.warn(\n"
     ]
    },
    {
     "data": {
      "image/png": "[encoded data removed]",
      "text/plain": [
       "<Figure size 864x432 with 6 Axes>"
      ]
     },
     "metadata": {
      "needs_background": "light"
     },
     "output_type": "display_data"
    }
   ],
   "source": [
    "with abstraction_model:\n",
    "    az.plot_trace(trace);"
   ]
  },
  {
   "cell_type": "code",
   "execution_count": 29,
   "id": "a55e6555",
   "metadata": {},
   "outputs": [
    {
     "name": "stderr",
     "output_type": "stream",
     "text": [
      "/usr/local/Caskroom/miniconda/base/lib/python3.8/site-packages/theano/tensor/elemwise.py:826: RuntimeWarning: divide by zero encountered in log1p\n",
      "  variables = ufunc(*ufunc_args, **ufunc_kwargs)\n",
      "Warning: gradient not available.(E.g. vars contains discrete variables). MAP estimates may not be accurate for the default parameters. Defaulting to non-gradient minimization 'Powell'.\n",
      "WARNING:pymc3:Warning: gradient not available.(E.g. vars contains discrete variables). MAP estimates may not be accurate for the default parameters. Defaulting to non-gradient minimization 'Powell'.\n"
     ]
    },
    {
     "data": {
      "text/html": [
       "\n",
       "    <div>\n",
       "        <style>\n",
       "            /* Turns off some styling */\n",
       "            progress {\n",
       "                /* gets rid of default border in Firefox and Opera. */\n",
       "                border: none;\n",
       "                /* Needs to be in here for Safari polyfill so background images work as expected. */\n",
       "                background-size: auto;\n",
       "            }\n",
       "            .progress-bar-interrupted, .progress-bar-interrupted::-webkit-progress-bar {\n",
       "                background: #F44336;\n",
       "            }\n",
       "        </style>\n",
       "      <progress value='163' class='' max='163' style='width:300px; height:20px; vertical-align: middle;'></progress>\n",
       "      100.00% [163/163 01:31<00:00 logp = -145.34]\n",
       "    </div>\n",
       "    "
      ],
      "text/plain": [
       "<IPython.core.display.HTML object>"
      ]
     },
     "metadata": {},
     "output_type": "display_data"
    },
    {
     "name": "stdout",
     "output_type": "stream",
     "text": [
      "\n"
     ]
    }
   ],
   "source": [
    "map_estimate = pm.find_MAP(model=abstraction_model)"
   ]
  },
  {
   "cell_type": "code",
   "execution_count": null,
   "id": "7198bcbc",
   "metadata": {},
   "outputs": [],
   "source": []
  }
 ],
 "metadata": {
  "kernelspec": {
   "display_name": "Python 3 (ipykernel)",
   "language": "python",
   "name": "python3"
  },
  "language_info": {
   "codemirror_mode": {
    "name": "ipython",
    "version": 3
   },
   "file_extension": ".py",
   "mimetype": "text/x-python",
   "name": "python",
   "nbconvert_exporter": "python",
   "pygments_lexer": "ipython3",
   "version": "3.8.3"
  },
  "toc": {
   "base_numbering": 1,
   "nav_menu": {},
   "number_sections": true,
   "sideBar": true,
   "skip_h1_title": false,
   "title_cell": "Table of Contents",
   "title_sidebar": "Contents",
   "toc_cell": false,
   "toc_position": {},
   "toc_section_display": true,
   "toc_window_display": false
  }
 },
 "nbformat": 4,
 "nbformat_minor": 5
}
