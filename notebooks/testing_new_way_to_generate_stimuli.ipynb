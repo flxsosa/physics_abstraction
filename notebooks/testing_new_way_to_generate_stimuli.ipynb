{
 "cells": [
  {
   "cell_type": "code",
   "execution_count": 1,
   "id": "316b2c4f",
   "metadata": {
    "scrolled": false
   },
   "outputs": [
    {
     "name": "stdout",
     "output_type": "stream",
     "text": [
      "pygame 2.1.2 (SDL 2.0.18, Python 3.9.10)\n",
      "Hello from the pygame community. https://www.pygame.org/contribute.html\n"
     ]
    }
   ],
   "source": [
    "import sys\n",
    "import os\n",
    "# Appending python modules so we can run simulations\n",
    "sys.path.append(\"../python\")\n",
    "import utility\n",
    "import models\n",
    "import pandas as pd\n",
    "import seaborn as sns\n",
    "import importlib\n",
    "import matplotlib.pyplot as plt\n",
    "from pymunk.vec2d import Vec2d\n",
    "from pilot4 import generate_stimuli_from_types_json"
   ]
  },
  {
   "cell_type": "code",
   "execution_count": 2,
   "id": "2cb8fbae",
   "metadata": {},
   "outputs": [],
   "source": [
    "def get_scene_type(scene_name):\n",
    "    '''\n",
    "    Returns the scene type for a given scene name.\n",
    "    '''\n",
    "    split_name = scene_name.split('_')[:2]\n",
    "    return '_'.join(split_name)"
   ]
  },
  {
   "cell_type": "code",
   "execution_count": 3,
   "id": "ebdd9ffa",
   "metadata": {},
   "outputs": [],
   "source": [
    "def get_scene_name(file_name):\n",
    "    '''\n",
    "    Returns scene name from file name\n",
    "    '''\n",
    "    return file_name.split(\".\")[0]"
   ]
  },
  {
   "cell_type": "code",
   "execution_count": 4,
   "id": "c24dd075",
   "metadata": {},
   "outputs": [],
   "source": [
    "types = \"../data/json/pilot7/types/\"\n",
    "savedir = \"../data/json/pilot7/\""
   ]
  },
  {
   "cell_type": "code",
   "execution_count": 5,
   "id": "6c99d05d",
   "metadata": {},
   "outputs": [],
   "source": [
    "generate_stimuli_from_types_json(types,savedir,False)"
   ]
  },
  {
   "cell_type": "code",
   "execution_count": 5,
   "id": "263df20e",
   "metadata": {},
   "outputs": [],
   "source": [
    "# Director with relevant JSONs\n",
    "# loaddir = \"../../../Desktop/new_types/\"\n",
    "# loaddir = \"../../../Desktop/pilot7/\"\n",
    "loaddir = \"../data/json/pilot4/trial/\"\n",
    "# loaddir = \"../data/json/pilot7/\"\n",
    "# Gather all of the json files in the directory of trial stimuli\n",
    "json_files = [pos_json for pos_json in os.listdir(loaddir) if pos_json.endswith('.json')]"
   ]
  },
  {
   "cell_type": "code",
   "execution_count": 6,
   "id": "bfd55c5e",
   "metadata": {},
   "outputs": [],
   "source": [
    "# Dictionary that will contain distance travelled per scenario \n",
    "distances = []\n",
    "\n",
    "# Iterate through stimuli files\n",
    "for scene_json in json_files:\n",
    "    scene_dir = loaddir+scene_json\n",
    "    scene_name = get_scene_name(scene_json)\n",
    "    scene = utility.load_scene(scene_dir)\n",
    "    # Extract the origin (the ball's starting position)\n",
    "    origin = scene.args['ball_args'][0]\n",
    "    # Extract the goal position\n",
    "    goal = scene.args['goal_args'][0]\n",
    "    # Convert these points into Vec2d for compatibility with pymunk\n",
    "    origin = Vec2d(*origin)\n",
    "    goal = Vec2d(*goal)\n",
    "    dist = {}\n",
    "    # Compute the distance\n",
    "    dist['distance'] = origin.get_distance(goal)\n",
    "    # Add the scene, distance pair into the dataframe\n",
    "    dist['scene'] = scene_name\n",
    "    distances.append(dist)"
   ]
  },
  {
   "cell_type": "code",
   "execution_count": 7,
   "id": "a2bcb458",
   "metadata": {},
   "outputs": [],
   "source": [
    "distances = pd.DataFrame.from_dict(distances)"
   ]
  },
  {
   "cell_type": "code",
   "execution_count": 29,
   "id": "c71a00c0",
   "metadata": {},
   "outputs": [
    {
     "ename": "KeyboardInterrupt",
     "evalue": "",
     "output_type": "error",
     "traceback": [
      "\u001b[0;31m---------------------------------------------------------------------------\u001b[0m",
      "\u001b[0;31mKeyboardInterrupt\u001b[0m                         Traceback (most recent call last)",
      "Input \u001b[0;32mIn [29]\u001b[0m, in \u001b[0;36m<module>\u001b[0;34m\u001b[0m\n\u001b[1;32m     23\u001b[0m simulation_rt\u001b[38;5;241m.\u001b[39mappend(simulation_sample)\n\u001b[1;32m     24\u001b[0m \u001b[38;5;66;03m## Abstraction\u001b[39;00m\n\u001b[0;32m---> 25\u001b[0m abstraction_sample \u001b[38;5;241m=\u001b[39m \u001b[43mmodels\u001b[49m\u001b[38;5;241;43m.\u001b[39;49m\u001b[43mabstraction\u001b[49m\u001b[43m(\u001b[49m\u001b[43mscene_args\u001b[49m\u001b[38;5;241;43m=\u001b[39;49m\u001b[43mscene\u001b[49m\u001b[38;5;241;43m.\u001b[39;49m\u001b[43margs\u001b[49m\u001b[43m,\u001b[49m\u001b[43mnum_samples\u001b[49m\u001b[38;5;241;43m=\u001b[39;49m\u001b[43msamples\u001b[49m\u001b[43m)\u001b[49m\n\u001b[1;32m     26\u001b[0m abstraction_sample[\u001b[38;5;124m'\u001b[39m\u001b[38;5;124mscene\u001b[39m\u001b[38;5;124m'\u001b[39m] \u001b[38;5;241m=\u001b[39m scene_name\n\u001b[1;32m     27\u001b[0m abstraction_sample[\u001b[38;5;124m'\u001b[39m\u001b[38;5;124mscene_type\u001b[39m\u001b[38;5;124m'\u001b[39m] \u001b[38;5;241m=\u001b[39m scene_type\n",
      "File \u001b[0;32m~/projects/physics_abstraction/notebooks/../python/models.py:185\u001b[0m, in \u001b[0;36mabstraction\u001b[0;34m(scene_args, N, D, E, num_samples, noise, view)\u001b[0m\n\u001b[1;32m    183\u001b[0m \u001b[38;5;28;01mfor\u001b[39;00m i \u001b[38;5;129;01min\u001b[39;00m \u001b[38;5;28mrange\u001b[39m(num_samples):\n\u001b[1;32m    184\u001b[0m     n,d,e \u001b[38;5;241m=\u001b[39m ns[i], ds[i], es[i]\n\u001b[0;32m--> 185\u001b[0m     coll_prob, sim_time, coll_trace \u001b[38;5;241m=\u001b[39m \u001b[43m_abstraction\u001b[49m\u001b[43m(\u001b[49m\u001b[43mscene_args\u001b[49m\u001b[43m,\u001b[49m\u001b[43mN\u001b[49m\u001b[38;5;241;43m=\u001b[39;49m\u001b[43mn\u001b[49m\u001b[43m,\u001b[49m\u001b[43mD\u001b[49m\u001b[38;5;241;43m=\u001b[39;49m\u001b[43md\u001b[49m\u001b[43m,\u001b[49m\u001b[43mE\u001b[49m\u001b[38;5;241;43m=\u001b[39;49m\u001b[43me\u001b[49m\u001b[43m)\u001b[49m\n\u001b[1;32m    186\u001b[0m     dist[\u001b[38;5;124m'\u001b[39m\u001b[38;5;124mcollision_probability\u001b[39m\u001b[38;5;124m'\u001b[39m]\u001b[38;5;241m.\u001b[39mappend(coll_prob)\n\u001b[1;32m    187\u001b[0m     dist[\u001b[38;5;124m'\u001b[39m\u001b[38;5;124msimulation_time\u001b[39m\u001b[38;5;124m'\u001b[39m]\u001b[38;5;241m.\u001b[39mappend(sim_time)\n",
      "File \u001b[0;32m~/projects/physics_abstraction/notebooks/../python/models.py:141\u001b[0m, in \u001b[0;36m_abstraction\u001b[0;34m(scene_args, N, D, E, view)\u001b[0m\n\u001b[1;32m    139\u001b[0m     object_id_map[\u001b[38;5;28mid\u001b[39m(obj\u001b[38;5;241m.\u001b[39mcomponents[\u001b[38;5;241m-\u001b[39m\u001b[38;5;241m1\u001b[39m])] \u001b[38;5;241m=\u001b[39m obj\u001b[38;5;241m.\u001b[39mid\n\u001b[1;32m    140\u001b[0m scene\u001b[38;5;241m.\u001b[39minstantiate_scene()\n\u001b[0;32m--> 141\u001b[0m \u001b[43mscene\u001b[49m\u001b[38;5;241;43m.\u001b[39;49m\u001b[43mrun_path\u001b[49m\u001b[43m(\u001b[49m\u001b[43mview\u001b[49m\u001b[38;5;241;43m=\u001b[39;49m\u001b[43mview\u001b[49m\u001b[43m,\u001b[49m\u001b[43mN\u001b[49m\u001b[38;5;241;43m=\u001b[39;49m\u001b[43mN\u001b[49m\u001b[43m,\u001b[49m\u001b[43mD\u001b[49m\u001b[38;5;241;43m=\u001b[39;49m\u001b[43mD\u001b[49m\u001b[43m,\u001b[49m\u001b[43mE\u001b[49m\u001b[38;5;241;43m=\u001b[39;49m\u001b[43mE\u001b[49m\u001b[43m)\u001b[49m\n\u001b[1;32m    142\u001b[0m ticks \u001b[38;5;241m+\u001b[39m\u001b[38;5;241m=\u001b[39m scene\u001b[38;5;241m.\u001b[39mphysics\u001b[38;5;241m.\u001b[39mtick\n\u001b[1;32m    143\u001b[0m \u001b[38;5;66;03m# Get collision probability\u001b[39;00m\n",
      "File \u001b[0;32m~/projects/physics_abstraction/notebooks/../python/simulation.py:332\u001b[0m, in \u001b[0;36mScene.run_path\u001b[0;34m(self, view, N, D, E)\u001b[0m\n\u001b[1;32m    328\u001b[0m     \u001b[38;5;28mself\u001b[39m\u001b[38;5;241m.\u001b[39mgraphics\u001b[38;5;241m.\u001b[39minitialize_graphics()\n\u001b[1;32m    329\u001b[0m \u001b[38;5;28;01mwhile\u001b[39;00m \u001b[38;5;28mself\u001b[39m\u001b[38;5;241m.\u001b[39mrunning:\n\u001b[1;32m    330\u001b[0m     \u001b[38;5;66;03m# input()\u001b[39;00m\n\u001b[1;32m    331\u001b[0m     \u001b[38;5;66;03m# Get projected path and end positio of path\u001b[39;00m\n\u001b[0;32m--> 332\u001b[0m     ball_pos_pp, valid_pp \u001b[38;5;241m=\u001b[39m \u001b[43mabstraction\u001b[49m\u001b[38;5;241;43m.\u001b[39;49m\u001b[43mpath_projection\u001b[49m\u001b[43m(\u001b[49m\u001b[38;5;28;43mself\u001b[39;49m\u001b[38;5;241;43m.\u001b[39;49m\u001b[43mobjects\u001b[49m\u001b[43m,\u001b[49m\u001b[38;5;28;43mself\u001b[39;49m\u001b[38;5;241;43m.\u001b[39;49m\u001b[43mphysics\u001b[49m\u001b[43m,\u001b[49m\u001b[43mD\u001b[49m\u001b[43m)\u001b[49m\n\u001b[1;32m    333\u001b[0m     \u001b[38;5;66;03m# Step simulator forward N times\u001b[39;00m\n\u001b[1;32m    334\u001b[0m     \u001b[38;5;28;01mfor\u001b[39;00m _ \u001b[38;5;129;01min\u001b[39;00m \u001b[38;5;28mrange\u001b[39m(\u001b[38;5;28mint\u001b[39m(N)):\n\u001b[1;32m    335\u001b[0m         \u001b[38;5;66;03m# Physics\u001b[39;00m\n",
      "File \u001b[0;32m~/projects/physics_abstraction/notebooks/../python/abstraction.py:174\u001b[0m, in \u001b[0;36mpath_projection\u001b[0;34m(objects, physics, D)\u001b[0m\n\u001b[1;32m    168\u001b[0m     new_pos \u001b[38;5;241m=\u001b[39m curr_pos\u001b[38;5;241m+\u001b[39m(velocity_vector)\u001b[38;5;241m*\u001b[39mD\n\u001b[1;32m    169\u001b[0m     \u001b[38;5;66;03m# print(f\"Current position: {curr_pos}\")\u001b[39;00m\n\u001b[1;32m    170\u001b[0m     \u001b[38;5;66;03m# print(f\"Velocity vector: {velocity_vector}\")\u001b[39;00m\n\u001b[1;32m    171\u001b[0m     \u001b[38;5;66;03m# print(f\"Default new position: {new_pos}\")\u001b[39;00m\n\u001b[1;32m    172\u001b[0m \u001b[38;5;66;03m# Check whether path collides with any other objects\u001b[39;00m\n\u001b[1;32m    173\u001b[0m \u001b[38;5;66;03m# print(\"Creating body...\")\u001b[39;00m\n\u001b[0;32m--> 174\u001b[0m pp_body \u001b[38;5;241m=\u001b[39m \u001b[43mpymunk\u001b[49m\u001b[38;5;241;43m.\u001b[39;49m\u001b[43mBody\u001b[49m\u001b[43m(\u001b[49m\u001b[43mbody_type\u001b[49m\u001b[38;5;241;43m=\u001b[39;49m\u001b[43mpymunk\u001b[49m\u001b[38;5;241;43m.\u001b[39;49m\u001b[43mBody\u001b[49m\u001b[38;5;241;43m.\u001b[39;49m\u001b[43mSTATIC\u001b[49m\u001b[43m)\u001b[49m\n\u001b[1;32m    175\u001b[0m \u001b[38;5;66;03m# pp_body.position = (new_pos[0]+curr_pos[0]) / 2, (new_pos[1] + curr_pos[1]) / 2\u001b[39;00m\n\u001b[1;32m    176\u001b[0m \u001b[38;5;66;03m# print(\"Creating shape...\")\u001b[39;00m\n\u001b[1;32m    177\u001b[0m pp_shape \u001b[38;5;241m=\u001b[39m pymunk\u001b[38;5;241m.\u001b[39mSegment(pp_body,(new_pos),(curr_pos),\u001b[38;5;241m1\u001b[39m)\n",
      "File \u001b[0;32m~/miniconda3/envs/physabs/lib/python3.9/site-packages/pymunk/body.py:260\u001b[0m, in \u001b[0;36mBody.__init__\u001b[0;34m(self, mass, moment, body_type)\u001b[0m\n\u001b[1;32m    255\u001b[0m \u001b[38;5;28mself\u001b[39m\u001b[38;5;241m.\u001b[39m_constraints: WeakSet[\n\u001b[1;32m    256\u001b[0m     \u001b[38;5;124m\"\u001b[39m\u001b[38;5;124mConstraint\u001b[39m\u001b[38;5;124m\"\u001b[39m\n\u001b[1;32m    257\u001b[0m ] \u001b[38;5;241m=\u001b[39m WeakSet()  \u001b[38;5;66;03m# weak refs to any constraints attached\u001b[39;00m\n\u001b[1;32m    258\u001b[0m \u001b[38;5;28mself\u001b[39m\u001b[38;5;241m.\u001b[39m_shapes: WeakSet[\u001b[38;5;124m\"\u001b[39m\u001b[38;5;124mShape\u001b[39m\u001b[38;5;124m\"\u001b[39m] \u001b[38;5;241m=\u001b[39m WeakSet()  \u001b[38;5;66;03m# weak refs to any shapes attached\u001b[39;00m\n\u001b[0;32m--> 260\u001b[0m \u001b[38;5;28;43mself\u001b[39;49m\u001b[38;5;241;43m.\u001b[39;49m\u001b[43m_set_id\u001b[49m\u001b[43m(\u001b[49m\u001b[43m)\u001b[49m\n",
      "File \u001b[0;32m~/miniconda3/envs/physabs/lib/python3.9/site-packages/pymunk/body.py:273\u001b[0m, in \u001b[0;36mBody._set_id\u001b[0;34m(self)\u001b[0m\n\u001b[1;32m    272\u001b[0m \u001b[38;5;28;01mdef\u001b[39;00m \u001b[38;5;21m_set_id\u001b[39m(\u001b[38;5;28mself\u001b[39m) \u001b[38;5;241m-\u001b[39m\u001b[38;5;241m>\u001b[39m \u001b[38;5;28;01mNone\u001b[39;00m:\n\u001b[0;32m--> 273\u001b[0m     \u001b[43mlib\u001b[49m\u001b[38;5;241m.\u001b[39mcpBodySetUserData(\u001b[38;5;28mself\u001b[39m\u001b[38;5;241m.\u001b[39m_body, ffi\u001b[38;5;241m.\u001b[39mcast(\u001b[38;5;124m\"\u001b[39m\u001b[38;5;124mcpDataPointer\u001b[39m\u001b[38;5;124m\"\u001b[39m, Body\u001b[38;5;241m.\u001b[39m_id_counter))\n\u001b[1;32m    274\u001b[0m     Body\u001b[38;5;241m.\u001b[39m_id_counter \u001b[38;5;241m+\u001b[39m\u001b[38;5;241m=\u001b[39m \u001b[38;5;241m1\u001b[39m\n",
      "\u001b[0;31mKeyboardInterrupt\u001b[0m: "
     ]
    }
   ],
   "source": [
    "simulation_rt = []\n",
    "abstraction_rt = []\n",
    "for scene_json in json_files:\n",
    "    scene_dir = loaddir+scene_json\n",
    "    scene_name = get_scene_name(scene_json)\n",
    "    if 'negative' in scene_name:\n",
    "        collision = False\n",
    "    else:\n",
    "        collision = True\n",
    "    scene_type = get_scene_type(scene_name)\n",
    "    # Samples to draw from models\n",
    "    samples = 1000\n",
    "    # Noise (SD on ball starting pos) for simulation model\n",
    "    noise = 0.02\n",
    "    # Generate a scene\n",
    "    scene = utility.load_scene(scene_dir)\n",
    "    # Get RT profile from model\n",
    "    ## Simulation\n",
    "    simulation_sample = models.simulation(scene.args,num_samples=samples,noise=noise)\n",
    "    simulation_sample['scene'] = scene_name\n",
    "    simulation_sample['scene_type'] = scene_type\n",
    "    simulation_sample['collision'] = collision\n",
    "    simulation_rt.append(simulation_sample)\n",
    "    ## Abstraction\n",
    "    abstraction_sample = models.abstraction(scene_args=scene.args,num_samples=samples)\n",
    "    abstraction_sample['scene'] = scene_name\n",
    "    abstraction_sample['scene_type'] = scene_type\n",
    "    abstraction_sample['collision'] = collision\n",
    "    abstraction_rt.append(abstraction_sample)"
   ]
  },
  {
   "cell_type": "code",
   "execution_count": 57,
   "id": "c1222f4e",
   "metadata": {},
   "outputs": [],
   "source": [
    "simulation_rt = []\n",
    "for scene_json in json_files:\n",
    "    scene_dir = loaddir+scene_json\n",
    "    scene_name = get_scene_name(scene_json)\n",
    "    if 'negative' in scene_name:\n",
    "        collision = False\n",
    "    else:\n",
    "        collision = True\n",
    "    scene_type = get_scene_type(scene_name)\n",
    "    # Samples to draw from models\n",
    "    samples = 1\n",
    "    # Noise (SD on ball starting pos) for simulation model\n",
    "    noise = 0.02\n",
    "    # Generate a scene\n",
    "    scene = utility.load_scene(scene_dir)\n",
    "    # Get RT profile from model\n",
    "    ## Simulation\n",
    "    simulation_sample = models.simulation(scene.args,num_samples=samples,noise=noise)\n",
    "    simulation_sample['scene'] = scene_name\n",
    "    simulation_sample['scene_type'] = scene_type\n",
    "    simulation_sample['collision'] = collision\n",
    "    simulation_rt.append(simulation_sample)\n",
    "simulation_predictions = pd.DataFrame.from_dict(simulation_rt,orient='columns')"
   ]
  },
  {
   "cell_type": "code",
   "execution_count": 58,
   "id": "15664168",
   "metadata": {
    "scrolled": true
   },
   "outputs": [],
   "source": [
    "simulation_predictions = simulation_predictions.merge(distances, on ='scene')\n",
    "simulation_predictions = simulation_predictions.explode('simulation_time')"
   ]
  },
  {
   "cell_type": "code",
   "execution_count": 59,
   "id": "328eb222",
   "metadata": {},
   "outputs": [
    {
     "data": {
      "text/plain": [
       "<seaborn.axisgrid.FacetGrid at 0x1559cd2e0>"
      ]
     },
     "execution_count": 59,
     "metadata": {},
     "output_type": "execute_result"
    },
    {
     "data": {
      "image/png": "[encoded data removed]",
      "text/plain": [
       "<Figure size 871.25x360 with 3 Axes>"
      ]
     },
     "metadata": {
      "needs_background": "light"
     },
     "output_type": "display_data"
    }
   ],
   "source": [
    "sns.relplot(\n",
    "    data=simulation_predictions,\n",
    "    x=\"distance\", y=\"simulation_time\",\n",
    "    hue=\"collision\",\n",
    "    col=\"scene_type\",\n",
    "    kind=\"line\",\n",
    "#     col_wrap=4,\n",
    "    height=5, aspect=.75, facet_kws=dict(sharex=False),\n",
    ")"
   ]
  },
  {
   "cell_type": "code",
   "execution_count": null,
   "id": "3e2fff04",
   "metadata": {},
   "outputs": [],
   "source": [
    "simulation_predictions = pd.DataFrame.from_dict(simulation_rt,orient='columns')\n",
    "simulation_predictions['model'] = 'simulation'\n",
    "abstraction_predictions = pd.DataFrame.from_dict(abstraction_rt,orient='columns')\n",
    "abstraction_predictions['model'] = 'abstraction'"
   ]
  },
  {
   "cell_type": "code",
   "execution_count": null,
   "id": "bb5e677e",
   "metadata": {},
   "outputs": [],
   "source": [
    "predictions = pd.concat([abstraction_predictions,simulation_predictions])"
   ]
  },
  {
   "cell_type": "code",
   "execution_count": null,
   "id": "45ec8a6f",
   "metadata": {},
   "outputs": [],
   "source": [
    "predictions = predictions.merge(distances, on ='scene')"
   ]
  },
  {
   "cell_type": "code",
   "execution_count": null,
   "id": "1f85266a",
   "metadata": {},
   "outputs": [],
   "source": [
    "predictions = predictions.explode('simulation_time')"
   ]
  },
  {
   "cell_type": "code",
   "execution_count": null,
   "id": "66f3c371",
   "metadata": {},
   "outputs": [],
   "source": [
    "predictions['sim_time_z'] = predictions.simulation_time.transform(lambda x: (x-x.mean())/x.std())"
   ]
  },
  {
   "cell_type": "code",
   "execution_count": null,
   "id": "e15713e0",
   "metadata": {},
   "outputs": [],
   "source": [
    "# Resetting the index\n",
    "predictions = predictions.reset_index(drop=True)"
   ]
  },
  {
   "cell_type": "code",
   "execution_count": null,
   "id": "10e5858a",
   "metadata": {
    "scrolled": false
   },
   "outputs": [],
   "source": [
    "sns.relplot(\n",
    "    data=predictions,\n",
    "    x=\"distance\", y=\"sim_time_z\",\n",
    "    hue=\"model\",\n",
    "    row=\"collision\",\n",
    "    col=\"scene_type\",\n",
    "    kind=\"line\",\n",
    "#     col_wrap=4,\n",
    "    height=5, aspect=.75, facet_kws=dict(sharex=False),\n",
    ")"
   ]
  },
  {
   "cell_type": "code",
   "execution_count": null,
   "id": "6e8645ea",
   "metadata": {},
   "outputs": [],
   "source": [
    "predictions"
   ]
  },
  {
   "cell_type": "code",
   "execution_count": null,
   "id": "acaa46f3",
   "metadata": {},
   "outputs": [],
   "source": [
    "empirical_data = pd.read_json('cleaned_data_exp_4_5_6.json')"
   ]
  },
  {
   "cell_type": "code",
   "execution_count": null,
   "id": "bb6da48e",
   "metadata": {},
   "outputs": [],
   "source": [
    "empirical_data['model'] = 'empirical'"
   ]
  },
  {
   "cell_type": "code",
   "execution_count": null,
   "id": "2ed7a825",
   "metadata": {},
   "outputs": [],
   "source": [
    "empirical_data = empirical_data.loc[empirical_data.experiment_version == 4]"
   ]
  },
  {
   "cell_type": "code",
   "execution_count": null,
   "id": "6333a4be",
   "metadata": {},
   "outputs": [],
   "source": [
    "empirical_data = empirical_data[['scene','scene_type','scene_col','part_zrt','model']]"
   ]
  },
  {
   "cell_type": "code",
   "execution_count": null,
   "id": "fdf8e4ae",
   "metadata": {},
   "outputs": [],
   "source": [
    "empirical_data = empirical_data.rename(columns={'scene_col':'collision','part_zrt':'sim_time_z'})"
   ]
  },
  {
   "cell_type": "code",
   "execution_count": null,
   "id": "70b5a7e1",
   "metadata": {},
   "outputs": [],
   "source": [
    "empirical_data.collision = empirical_data.collision.apply(lambda x: False if x == 'no' else True)"
   ]
  },
  {
   "cell_type": "code",
   "execution_count": null,
   "id": "0c50be44",
   "metadata": {},
   "outputs": [],
   "source": [
    "empirical_data = empirical_data.reset_index(drop=True)"
   ]
  },
  {
   "cell_type": "code",
   "execution_count": null,
   "id": "24a63669",
   "metadata": {},
   "outputs": [],
   "source": [
    "predictions = predictions[['scene','scene_type','collision','model','sim_time_z']]"
   ]
  },
  {
   "cell_type": "code",
   "execution_count": null,
   "id": "b4dfdf3f",
   "metadata": {},
   "outputs": [],
   "source": [
    "df = pd.concat([predictions,empirical_data])"
   ]
  },
  {
   "cell_type": "code",
   "execution_count": null,
   "id": "0c5f10fd",
   "metadata": {},
   "outputs": [],
   "source": [
    "df = df.merge(distances, on ='scene')"
   ]
  },
  {
   "cell_type": "code",
   "execution_count": null,
   "id": "09c975a8",
   "metadata": {
    "scrolled": false
   },
   "outputs": [],
   "source": [
    "g = sns.relplot(\n",
    "    data=df,\n",
    "    x=\"distance\", y=\"sim_time_z\",\n",
    "    hue=\"model\", \n",
    "    col=\"scene_type\", row=\"collision\",\n",
    "    kind=\"line\",\n",
    "    height=5, aspect=.75, facet_kws=dict(sharex=False),\n",
    ")\n",
    "\n",
    "g.figure.savefig(\"output.pdf\")"
   ]
  },
  {
   "cell_type": "code",
   "execution_count": null,
   "id": "8989d2ae",
   "metadata": {},
   "outputs": [],
   "source": []
  }
 ],
 "metadata": {
  "kernelspec": {
   "display_name": "Python 3 (ipykernel)",
   "language": "python",
   "name": "python3"
  },
  "language_info": {
   "codemirror_mode": {
    "name": "ipython",
    "version": 3
   },
   "file_extension": ".py",
   "mimetype": "text/x-python",
   "name": "python",
   "nbconvert_exporter": "python",
   "pygments_lexer": "ipython3",
   "version": "3.9.10"
  },
  "toc": {
   "base_numbering": 1,
   "nav_menu": {},
   "number_sections": true,
   "sideBar": true,
   "skip_h1_title": false,
   "title_cell": "Table of Contents",
   "title_sidebar": "Contents",
   "toc_cell": false,
   "toc_position": {},
   "toc_section_display": true,
   "toc_window_display": false
  },
  "varInspector": {
   "cols": {
    "lenName": 16,
    "lenType": 16,
    "lenVar": 40
   },
   "kernels_config": {
    "python": {
     "delete_cmd_postfix": "",
     "delete_cmd_prefix": "del ",
     "library": "var_list.py",
     "varRefreshCmd": "print(var_dic_list())"
    },
    "r": {
     "delete_cmd_postfix": ") ",
     "delete_cmd_prefix": "rm(",
     "library": "var_list.r",
     "varRefreshCmd": "cat(var_dic_list()) "
    }
   },
   "types_to_exclude": [
    "module",
    "function",
    "builtin_function_or_method",
    "instance",
    "_Feature"
   ],
   "window_display": false
  }
 },
 "nbformat": 4,
 "nbformat_minor": 5
}
