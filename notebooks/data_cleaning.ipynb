{
 "cells": [
  {
   "cell_type": "code",
   "execution_count": 148,
   "id": "42caa8d8",
   "metadata": {},
   "outputs": [],
   "source": [
    "import hashlib\n",
    "import pandas as pd"
   ]
  },
  {
   "cell_type": "code",
   "execution_count": 149,
   "id": "0e2e0e84",
   "metadata": {},
   "outputs": [],
   "source": [
    "# Are we saving the cleaned data to a JSON?\n",
    "saving_clean_data_to_disk = True\n",
    "data_dir = '../data/cleaned_data'"
   ]
  },
  {
   "cell_type": "markdown",
   "id": "3cbe3b05",
   "metadata": {},
   "source": [
    "## Cleaning data"
   ]
  },
  {
   "cell_type": "markdown",
   "id": "1008f29d",
   "metadata": {},
   "source": [
    "### Anonymizing data"
   ]
  },
  {
   "cell_type": "code",
   "execution_count": 150,
   "id": "37200f27",
   "metadata": {},
   "outputs": [],
   "source": [
    "ids = {}\n",
    "def sha256(data):\n",
    "    data = data.encode('utf-8')\n",
    "    if data in ids.keys():\n",
    "        return ids[data]\n",
    "    else:\n",
    "        sha256_hash = hashlib.sha256()\n",
    "        sha256_hash.update(data)\n",
    "        hash_val = sha256_hash.hexdigest()\n",
    "        ids[data] = hash_val\n",
    "        return hash_val"
   ]
  },
  {
   "cell_type": "markdown",
   "id": "2a44b652",
   "metadata": {},
   "source": [
    "### Experiment 1"
   ]
  },
  {
   "cell_type": "code",
   "execution_count": 151,
   "id": "6a7cff99",
   "metadata": {},
   "outputs": [],
   "source": [
    "data_path_exp1 = '../data/empirical/data_exp1.csv'"
   ]
  },
  {
   "cell_type": "code",
   "execution_count": 152,
   "id": "d6bda296",
   "metadata": {},
   "outputs": [],
   "source": [
    "df_full_data_exp1 = pd.read_csv(data_path_exp1)"
   ]
  },
  {
   "cell_type": "code",
   "execution_count": 153,
   "id": "bd33476c",
   "metadata": {},
   "outputs": [],
   "source": [
    "df_full_data_exp1['experiment_version'] = 1"
   ]
  },
  {
   "cell_type": "code",
   "execution_count": 154,
   "id": "2c2a9bbe",
   "metadata": {},
   "outputs": [],
   "source": [
    "df_full_data_exp1['subject_id'] = df_full_data_exp1.subject_id.apply(sha256)"
   ]
  },
  {
   "cell_type": "markdown",
   "id": "9d5fc57e",
   "metadata": {},
   "source": [
    "#### Demographics"
   ]
  },
  {
   "cell_type": "code",
   "execution_count": 155,
   "id": "760b7f5f",
   "metadata": {},
   "outputs": [],
   "source": [
    "demographics_data_path_exp1 = '../data/empirical/demo_data_exp1.csv'"
   ]
  },
  {
   "cell_type": "code",
   "execution_count": 156,
   "id": "82c1708c",
   "metadata": {},
   "outputs": [],
   "source": [
    "df_demographic_data_exp1 = pd.read_csv(demographics_data_path_exp1)"
   ]
  },
  {
   "cell_type": "code",
   "execution_count": 157,
   "id": "a70be81a",
   "metadata": {},
   "outputs": [],
   "source": [
    "df_demographic_data_exp1 = df_demographic_data_exp1[['Age', 'Sex']]"
   ]
  },
  {
   "cell_type": "code",
   "execution_count": 158,
   "id": "8b50db37",
   "metadata": {},
   "outputs": [],
   "source": [
    "df_demographic_data_exp1['experiment_version'] = 1"
   ]
  },
  {
   "cell_type": "code",
   "execution_count": 159,
   "id": "175f3c71",
   "metadata": {},
   "outputs": [
    {
     "data": {
      "text/plain": [
       "Female             29\n",
       "Male               24\n",
       "CONSENT_REVOKED    14\n",
       "DATA_EXPIRED        2\n",
       "Name: Sex, dtype: int64"
      ]
     },
     "execution_count": 159,
     "metadata": {},
     "output_type": "execute_result"
    }
   ],
   "source": [
    "# Sex\n",
    "df_demographic_data_exp1.Sex.value_counts()"
   ]
  },
  {
   "cell_type": "code",
   "execution_count": 160,
   "id": "4ae45f9b",
   "metadata": {},
   "outputs": [
    {
     "data": {
      "text/plain": [
       "28.096153846153847"
      ]
     },
     "execution_count": 160,
     "metadata": {},
     "output_type": "execute_result"
    }
   ],
   "source": [
    "# Age\n",
    "df_demographic_data_exp1[~(df_demographic_data_exp1['Age'].isin(['CONSENT_REVOKED', 'DATA_EXPIRED']))].Age.astype(int).mean()"
   ]
  },
  {
   "cell_type": "code",
   "execution_count": 161,
   "id": "4cbf5cc6",
   "metadata": {},
   "outputs": [],
   "source": [
    "df_demographic_data_exp1.to_csv(demographics_data_path_exp1)"
   ]
  },
  {
   "cell_type": "markdown",
   "id": "ce87d132",
   "metadata": {},
   "source": [
    "#### Data"
   ]
  },
  {
   "cell_type": "markdown",
   "id": "24ab941a",
   "metadata": {},
   "source": [
    "Here, we're removing unused columns that contain metadata from jsPsych. These are unnecessary for our analyses.In line with good practice with dataframes, we are making a copy of our original dataframe `df_full_data_exp1` for analysis and calling it `df_exp1` "
   ]
  },
  {
   "cell_type": "code",
   "execution_count": 162,
   "id": "6a51c3ff",
   "metadata": {},
   "outputs": [],
   "source": [
    "# Removing unused columns from jsPsych\n",
    "df_exp1 = df_full_data_exp1.drop(columns=['success', \n",
    "                                          'failed_images',\n",
    "                                          'failed_audio',\n",
    "                                          'failed_video',\n",
    "                                          'time_elapsed',\n",
    "                                          'scene_sp',\n",
    "                                          'internal_node_id',\n",
    "                                          'session_id',\n",
    "                                          'study_id',\n",
    "                                          'value',\n",
    "                                          'stimulus',\n",
    "                                          'timeout',\n",
    "                                          'trial_type',\n",
    "                                          'timed_out',\n",
    "                                          'response',\n",
    "                                          'correct_response',\n",
    "                                          'task_condition',\n",
    "                                         ]\n",
    "                                )"
   ]
  },
  {
   "cell_type": "markdown",
   "id": "f0ab2808",
   "metadata": {},
   "source": [
    "**Cleaning responses:**"
   ]
  },
  {
   "cell_type": "code",
   "execution_count": 163,
   "id": "2591e784",
   "metadata": {},
   "outputs": [],
   "source": [
    "# Remove attempts column since we no longer are using it\n",
    "df_exp1 = df_exp1.drop(columns=['attempts',\n",
    "                                'condition',\n",
    "                                'trial_index',\n",
    "                               ]\n",
    "                      )"
   ]
  },
  {
   "cell_type": "markdown",
   "id": "07720a16",
   "metadata": {},
   "source": [
    "**Cleaning scene types:** Our variable `scene_type` codes which scene type the participant is viewing (e.g. stim_2, stim_4, or stim_6). jsPsych records these data verbosely (e.g. \"stim_2_goalpos_1_negative.mp4\"). Here, we're cleaning up the `scene_type` entries so they just say what scene type the user viewed. For example, the entry \"stim_2_goalpos_1_negative.mp4\" will be changed to \"stim_2\"."
   ]
  },
  {
   "cell_type": "code",
   "execution_count": 164,
   "id": "bfc261f8",
   "metadata": {},
   "outputs": [],
   "source": [
    "# Convert all scene type entries to strings\n",
    "df_exp1.scene_type = df_exp1.scene_type.astype(str)\n",
    "# Retain only the scene type (remove \"_goalpos_\" substring)\n",
    "df_exp1.scene_type = df_exp1.scene_type.apply(lambda x: '_'.join(x.split('_')[:2]))"
   ]
  },
  {
   "cell_type": "markdown",
   "id": "9fa53ca0",
   "metadata": {},
   "source": [
    "**Cleaning scenes:** The `scene` variable codes the actual scene the participant viewed (e.g. \"stim_2_goalpos_1_negative.mp4\"). We want to remove the \".mp4\" substring from the entries in this variable."
   ]
  },
  {
   "cell_type": "code",
   "execution_count": 165,
   "id": "13442847",
   "metadata": {},
   "outputs": [],
   "source": [
    "# Convert all scene entries to strings\n",
    "df_exp1.scene = df_exp1.scene.astype(str)\n",
    "# Retain only the scene name (remove \".mp4\" substring)\n",
    "df_exp1.scene = df_exp1.scene.apply(lambda x: x.split('.')[0])"
   ]
  },
  {
   "cell_type": "markdown",
   "id": "69f1d279",
   "metadata": {},
   "source": [
    "**Only viewing responses:** Since we removed the participants who failed the comprehension check, we are now only interested in the remaining participants' responses. So, we're removing the data that isn't coded as \"response\" in the `task` variable."
   ]
  },
  {
   "cell_type": "code",
   "execution_count": 166,
   "id": "0b88428d",
   "metadata": {},
   "outputs": [],
   "source": [
    "# Remove all tasks that aren't coded as response\n",
    "df_exp1 = df_exp1.loc[(df_exp1.task == 'response')]"
   ]
  },
  {
   "cell_type": "code",
   "execution_count": 167,
   "id": "8cec991e",
   "metadata": {},
   "outputs": [],
   "source": [
    "# Remove the task column since we no longer are using it\n",
    "df_exp1 = df_exp1.drop(columns=['task'])"
   ]
  },
  {
   "cell_type": "markdown",
   "id": "48af333b",
   "metadata": {},
   "source": [
    "**Extract sim time condition**: We're just grabbing the simulation time condition from the scene condition"
   ]
  },
  {
   "cell_type": "code",
   "execution_count": 168,
   "id": "6ee0f161",
   "metadata": {},
   "outputs": [],
   "source": [
    "df_exp1['simulation_time_condition'] = df_exp1.scene_type.apply(lambda x: x.split('_')[0])"
   ]
  },
  {
   "cell_type": "markdown",
   "id": "1da783ba",
   "metadata": {},
   "source": [
    "**Extract path condition**: We're just grabbing the path condition from the scene"
   ]
  },
  {
   "cell_type": "code",
   "execution_count": 169,
   "id": "f87d475f",
   "metadata": {},
   "outputs": [],
   "source": [
    "df_exp1['path_condition'] = df_exp1.scene.apply(lambda x: 'straight' if 'yessp' in x else 'not_straight')"
   ]
  },
  {
   "cell_type": "markdown",
   "id": "3ff2a796",
   "metadata": {},
   "source": [
    "**Compute z-scores:** We need to compute the z-scores of response times `rt`. We will do so participant-wise (per participant) and add them as new variable `participant_z_rt`."
   ]
  },
  {
   "cell_type": "code",
   "execution_count": 170,
   "id": "a63efb3a",
   "metadata": {},
   "outputs": [],
   "source": [
    "# Calculate participant-wise z-score for response time\n",
    "df_exp1['participant_z_rt'] = df_exp1.groupby(['experiment_version','subject_id']).rt.apply(lambda x: (x-x.mean()) / x.std())"
   ]
  },
  {
   "cell_type": "markdown",
   "id": "2b191b5a",
   "metadata": {},
   "source": [
    "**Removing outlier response times**: We can now remove outlier response times. We use the 2-SD methd as per Alexander Berger and Markus Kiefer, 2021. 2-SD outlier exclusion demonstrated best results for omitting Type-1 errors (false positives) and retaining original data."
   ]
  },
  {
   "cell_type": "code",
   "execution_count": 171,
   "id": "ab8decee",
   "metadata": {},
   "outputs": [
    {
     "name": "stdout",
     "output_type": "stream",
     "text": [
      "105 of 2256 (4.654%) are excluded via 2-SD exclusion\n"
     ]
    }
   ],
   "source": [
    "# Determine number of datapoints lost by outlier exclusion\n",
    "excluded = len(df_exp1) - len(df_exp1[abs(df_exp1.participant_z_rt) <= 2])\n",
    "print(f'{excluded} of {len(df_exp1)} ({excluded/len(df_exp1)*100:.4}%) are excluded via 2-SD exclusion')"
   ]
  },
  {
   "cell_type": "code",
   "execution_count": 172,
   "id": "90a05d5a",
   "metadata": {},
   "outputs": [],
   "source": [
    "# Excluding outliers\n",
    "df_exp1 = df_exp1[abs(df_exp1.participant_z_rt) <= 2]"
   ]
  },
  {
   "cell_type": "markdown",
   "id": "794af9f4",
   "metadata": {},
   "source": [
    "**Clarifying variable names**: Now we rename some columns to make their values more clear.\n",
    "\n"
   ]
  },
  {
   "cell_type": "code",
   "execution_count": 173,
   "id": "39eadca5",
   "metadata": {},
   "outputs": [],
   "source": [
    "df_exp1 = df_exp1.rename(columns={'scene_col': 'scene_collision_condition'})\n",
    "df_exp1 = df_exp1.reset_index(drop=True)"
   ]
  },
  {
   "cell_type": "code",
   "execution_count": 174,
   "id": "2aac6e41",
   "metadata": {},
   "outputs": [
    {
     "name": "stdout",
     "output_type": "stream",
     "text": [
      "Data saved...\n"
     ]
    }
   ],
   "source": [
    "# Save file locally\n",
    "if saving_clean_data_to_disk:\n",
    "    print('Data saved...')\n",
    "    df_exp1.to_json(demographics_data_path_exp2)\n",
    "else:\n",
    "    print('Data was not saved...')"
   ]
  },
  {
   "cell_type": "markdown",
   "id": "c85bc01b",
   "metadata": {},
   "source": [
    "### Experiment 2"
   ]
  },
  {
   "cell_type": "code",
   "execution_count": 175,
   "id": "3c1597f2",
   "metadata": {},
   "outputs": [],
   "source": [
    "data_path_exp2 = '../data/empirical/data_exp2.csv'"
   ]
  },
  {
   "cell_type": "code",
   "execution_count": 176,
   "id": "df7ab3c1",
   "metadata": {},
   "outputs": [],
   "source": [
    "df_full_data_exp2 = pd.read_csv(data_path_exp2)"
   ]
  },
  {
   "cell_type": "code",
   "execution_count": 177,
   "id": "a49aec6c",
   "metadata": {},
   "outputs": [],
   "source": [
    "df_full_data_exp2['experiment_version'] = 2"
   ]
  },
  {
   "cell_type": "code",
   "execution_count": 178,
   "id": "54c2a952",
   "metadata": {},
   "outputs": [],
   "source": [
    "df_full_data_exp2['subject_id'] = df_full_data_exp2.subject_id.apply(sha256)"
   ]
  },
  {
   "cell_type": "markdown",
   "id": "20a18ad5",
   "metadata": {},
   "source": [
    "#### Demographics"
   ]
  },
  {
   "cell_type": "code",
   "execution_count": 179,
   "id": "bb697415",
   "metadata": {},
   "outputs": [],
   "source": [
    "demographics_data_path_exp2 = '../data/empirical/demo_data_exp2.csv'"
   ]
  },
  {
   "cell_type": "code",
   "execution_count": 180,
   "id": "c10cf4a5",
   "metadata": {},
   "outputs": [],
   "source": [
    "df_demographic_data_exp2 = pd.read_csv(demographics_data_path_exp2)"
   ]
  },
  {
   "cell_type": "code",
   "execution_count": 181,
   "id": "97e3a52b",
   "metadata": {},
   "outputs": [],
   "source": [
    "df_demographic_data_exp2 = df_demographic_data_exp1[['Age', 'Sex']]"
   ]
  },
  {
   "cell_type": "code",
   "execution_count": 182,
   "id": "f38c5a75",
   "metadata": {},
   "outputs": [],
   "source": [
    "df_demographic_data_exp2['experiment_version'] = 2"
   ]
  },
  {
   "cell_type": "code",
   "execution_count": 183,
   "id": "5d065599",
   "metadata": {},
   "outputs": [
    {
     "data": {
      "text/plain": [
       "Female             29\n",
       "Male               24\n",
       "CONSENT_REVOKED    14\n",
       "DATA_EXPIRED        2\n",
       "Name: Sex, dtype: int64"
      ]
     },
     "execution_count": 183,
     "metadata": {},
     "output_type": "execute_result"
    }
   ],
   "source": [
    "# Sex\n",
    "df_demographic_data_exp2.Sex.value_counts()"
   ]
  },
  {
   "cell_type": "code",
   "execution_count": 184,
   "id": "777669ac",
   "metadata": {},
   "outputs": [
    {
     "data": {
      "text/plain": [
       "28.096153846153847"
      ]
     },
     "execution_count": 184,
     "metadata": {},
     "output_type": "execute_result"
    }
   ],
   "source": [
    "# Age\n",
    "df_demographic_data_exp2[~(df_demographic_data_exp2['Age'].isin(['CONSENT_REVOKED', 'DATA_EXPIRED']))].Age.astype(int).mean()"
   ]
  },
  {
   "cell_type": "code",
   "execution_count": 185,
   "id": "2a7ddb99",
   "metadata": {},
   "outputs": [],
   "source": [
    "df_demographic_data_exp2.to_csv(demographics_data_path_exp2)"
   ]
  },
  {
   "cell_type": "markdown",
   "id": "ff543fd9",
   "metadata": {},
   "source": [
    "#### Data"
   ]
  },
  {
   "cell_type": "code",
   "execution_count": 186,
   "id": "723e5420",
   "metadata": {},
   "outputs": [],
   "source": [
    "# Removing unused columns from jsPsych\n",
    "df_exp2 = df_full_data_exp2.drop(columns=['success', \n",
    "                                          'failed_images',\n",
    "                                          'failed_audio',\n",
    "                                          'failed_video',\n",
    "                                          'time_elapsed',\n",
    "                                          'scene_sp',\n",
    "                                          'internal_node_id',\n",
    "                                          'session_id',\n",
    "                                          'study_id',\n",
    "                                          'value',\n",
    "                                          'stimulus',\n",
    "                                          'timeout',\n",
    "                                          'trial_type',\n",
    "                                          'timed_out',\n",
    "                                          'correct_response',\n",
    "                                          'response',\n",
    "                                          'task_condition',\n",
    "                                         ]\n",
    "                                )"
   ]
  },
  {
   "cell_type": "code",
   "execution_count": 187,
   "id": "c8a92d8b",
   "metadata": {},
   "outputs": [],
   "source": [
    "# Copy dataframe\n",
    "df_exp2 = df_exp2.loc[df_exp2.task == \"response\"]\n",
    "# Remove the task column since we no longer are using it\n",
    "df_exp2 = df_exp2.drop(columns=['task'])\n",
    "# Remove attempts column since we no longer are using it\n",
    "df_exp2 = df_exp2.drop(columns=['attempts',\n",
    "                                'condition',\n",
    "                                'trial_index',\n",
    "                               ]\n",
    "                      )"
   ]
  },
  {
   "cell_type": "code",
   "execution_count": 188,
   "id": "440fc932",
   "metadata": {},
   "outputs": [],
   "source": [
    "# Convert all scene type entries to strings\n",
    "df_exp2.scene_type = df_exp2.scene_type.astype(str)"
   ]
  },
  {
   "cell_type": "code",
   "execution_count": 189,
   "id": "4adb5bc3",
   "metadata": {},
   "outputs": [],
   "source": [
    "# Retain only the scene type (remove \"_goalpos_\" substring)\n",
    "df_exp2.scene_type = df_exp2.scene_type.apply(lambda x: '_'.join(x.split('_')[:2]))"
   ]
  },
  {
   "cell_type": "code",
   "execution_count": 190,
   "id": "814b38ca",
   "metadata": {},
   "outputs": [],
   "source": [
    "# Convert all scene entries to strings\n",
    "df_exp2.scene = df_exp2.scene.astype(str)"
   ]
  },
  {
   "cell_type": "code",
   "execution_count": 191,
   "id": "9964534b",
   "metadata": {},
   "outputs": [],
   "source": [
    "# Retain only the scene name (remove \".mp4\" substring)\n",
    "df_exp2.scene = df_exp2.scene.apply(lambda x: x.split('.')[0])"
   ]
  },
  {
   "cell_type": "code",
   "execution_count": 192,
   "id": "189bc044",
   "metadata": {},
   "outputs": [],
   "source": [
    "# Calculate participant-wise z-score for response time\n",
    "df_exp2['participant_z_rt'] = df_exp2.groupby(['experiment_version','subject_id']).rt.apply(lambda x: (x-x.mean()) / x.std())"
   ]
  },
  {
   "cell_type": "code",
   "execution_count": 193,
   "id": "92570af2",
   "metadata": {},
   "outputs": [
    {
     "name": "stdout",
     "output_type": "stream",
     "text": [
      "439 of 9048 (4.852%) are excluded via 2-SD exclusion\n"
     ]
    }
   ],
   "source": [
    "# Determine number of datapoints lost by outlier exclusion\n",
    "excluded = len(df_exp2) - len(df_exp2[abs(df_exp2.participant_z_rt) <= 2])\n",
    "print(f'{excluded} of {len(df_exp2)} ({excluded/len(df_exp2)*100:.4}%) are excluded via 2-SD exclusion')"
   ]
  },
  {
   "cell_type": "code",
   "execution_count": 194,
   "id": "d2c89158",
   "metadata": {},
   "outputs": [],
   "source": [
    "# Excluding outliers\n",
    "df_exp2 = df_exp2[abs(df_exp2.participant_z_rt) <= 2]"
   ]
  },
  {
   "cell_type": "code",
   "execution_count": 195,
   "id": "60f3c174",
   "metadata": {},
   "outputs": [],
   "source": [
    "# Rename some columns to make their values more clear.\n",
    "df_exp2 = df_exp2.rename(columns={'scene_col': 'scene_collision_condition'})"
   ]
  },
  {
   "cell_type": "code",
   "execution_count": 196,
   "id": "08638c89",
   "metadata": {},
   "outputs": [
    {
     "name": "stdout",
     "output_type": "stream",
     "text": [
      "Data saved...\n"
     ]
    }
   ],
   "source": [
    "# Save file locally\n",
    "if saving_clean_data_to_disk:\n",
    "    print('Data saved...')\n",
    "    df_exp2.to_json(demographics_data_path_exp2)\n",
    "else:\n",
    "    print('Data not saved...')"
   ]
  }
 ],
 "metadata": {
  "kernelspec": {
   "display_name": "Python 3 (ipykernel)",
   "language": "python",
   "name": "python3"
  },
  "language_info": {
   "codemirror_mode": {
    "name": "ipython",
    "version": 3
   },
   "file_extension": ".py",
   "mimetype": "text/x-python",
   "name": "python",
   "nbconvert_exporter": "python",
   "pygments_lexer": "ipython3",
   "version": "3.10.2"
  }
 },
 "nbformat": 4,
 "nbformat_minor": 5
}
