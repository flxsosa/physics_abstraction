{
 "cells": [
  {
   "cell_type": "code",
   "execution_count": 3,
   "id": "9106fe51",
   "metadata": {},
   "outputs": [],
   "source": [
    "import json\n",
    "import matplotlib.pyplot as plt\n",
    "import numpy as np\n",
    "import os\n",
    "import pandas as pd\n",
    "import seaborn as sns\n",
    "import statannotations.Annotator as statannotator\n",
    "import statsmodels.api as sm\n",
    "import sys\n",
    "\n",
    "# Appending python modules so we can run simulations\n",
    "sys.path.append('../python')\n",
    "\n",
    "import json_utilities\n",
    "import model_utilities\n",
    "from matplotlib.pyplot import figure\n",
    "from pymunk.vec2d import Vec2d\n",
    "from scipy import stats"
   ]
  },
  {
   "cell_type": "code",
   "execution_count": 4,
   "id": "f165d420",
   "metadata": {},
   "outputs": [],
   "source": [
    "# Are we saving the cleaned data to a JSON?\n",
    "saving_clean_data_to_dist = False\n",
    "data_dir = '../data/json'"
   ]
  },
  {
   "cell_type": "code",
   "execution_count": 5,
   "id": "ed64ed9e",
   "metadata": {},
   "outputs": [],
   "source": [
    "# Are we saving figures?\n",
    "saving_figures = False\n",
    "figure_dir = '../paper/figures/src'"
   ]
  },
  {
   "cell_type": "code",
   "execution_count": 6,
   "id": "4bf39607",
   "metadata": {},
   "outputs": [],
   "source": [
    "sns.set_theme(\n",
    "    style='whitegrid',\n",
    "    palette='bright',\n",
    "    font_scale=1.5,\n",
    "    rc={\n",
    "        'figure.dpi':300,\n",
    "        'font.family':'sans-serif',\n",
    "        'font.sans-serif':['Helvetica'],\n",
    "    },\n",
    ")\n"
   ]
  },
  {
   "cell_type": "code",
   "execution_count": 7,
   "id": "1433abad",
   "metadata": {},
   "outputs": [],
   "source": [
    "data_path_exp2 = '../experiments/experiment2/data/data.csv'"
   ]
  },
  {
   "cell_type": "code",
   "execution_count": 8,
   "id": "75d6bc5e",
   "metadata": {},
   "outputs": [],
   "source": [
    "df_full_data_exp2 = pd.read_csv(data_path_exp2)"
   ]
  },
  {
   "cell_type": "code",
   "execution_count": 9,
   "id": "b50cad69",
   "metadata": {},
   "outputs": [],
   "source": [
    "df_full_data_exp2['experiment_version'] = 2"
   ]
  },
  {
   "cell_type": "code",
   "execution_count": 10,
   "id": "a6791e0d",
   "metadata": {},
   "outputs": [],
   "source": [
    "# Removing unused columns from jsPsych\n",
    "df_exp2 = df_full_data_exp2.drop(columns=['success', \n",
    "                                          'failed_images',\n",
    "                                          'failed_audio',\n",
    "                                          'failed_video',\n",
    "                                          'time_elapsed',\n",
    "                                          'scene_sp',\n",
    "                                          'internal_node_id',\n",
    "                                          'session_id',\n",
    "                                          'study_id',\n",
    "                                          'value',\n",
    "                                          'stimulus',\n",
    "                                          'timeout',\n",
    "                                          'trial_type',\n",
    "                                          'timed_out',\n",
    "                                          'correct_response',\n",
    "                                          'response',\n",
    "                                          'task_condition',\n",
    "                                         ]\n",
    "                                )"
   ]
  },
  {
   "cell_type": "code",
   "execution_count": 11,
   "id": "49a490ac",
   "metadata": {},
   "outputs": [
    {
     "name": "stdout",
     "output_type": "stream",
     "text": [
      "439 of 9048 (4.852%) are excluded via 2-SD exclusion\n",
      "Data not saved...\n"
     ]
    }
   ],
   "source": [
    "# Copy dataframe\n",
    "df_exp2 = df_exp2.loc[df_exp2.task == \"response\"]\n",
    "# Remove the task column since we no longer are using it\n",
    "df_exp2 = df_exp2.drop(columns=['task'])\n",
    "# Remove attempts column since we no longer are using it\n",
    "df_exp2 = df_exp2.drop(columns=['attempts',\n",
    "                                'condition',\n",
    "                                'trial_index',\n",
    "                               ]\n",
    "                      )\n",
    "# Convert all scene type entries to strings\n",
    "df_exp2.scene_type = df_exp2.scene_type.astype(str)\n",
    "# Retain only the scene type (remove \"_goalpos_\" substring)\n",
    "df_exp2.scene_type = df_exp2.scene_type.apply(lambda x: '_'.join(x.split('_')[:2]))\n",
    "# Convert all scene entries to strings\n",
    "df_exp2.scene = df_exp2.scene.astype(str)\n",
    "# Retain only the scene name (remove \".mp4\" substring)\n",
    "df_exp2.scene = df_exp2.scene.apply(lambda x: x.split('.')[0])\n",
    "# Calculate participant-wise z-score for response time\n",
    "df_exp2['participant_z_rt'] = df_exp2.groupby(['experiment_version','subject_id']).rt.apply(lambda x: (x-x.mean()) / x.std())\n",
    "# Determine number of datapoints lost by outlier exclusion\n",
    "excluded = len(df_exp2) - len(df_exp2[abs(df_exp2.participant_z_rt) <= 2])\n",
    "print(f'{excluded} of {len(df_exp2)} ({excluded/len(df_exp2)*100:.4}%) are excluded via 2-SD exclusion')\n",
    "# Excluding outliers\n",
    "df_exp2 = df_exp2[abs(df_exp2.participant_z_rt) <= 2]\n",
    "# Rename some columns to make their values more clear.\n",
    "df_exp2 = df_exp2.rename(columns={'scene_col': 'scene_collision_condition'})\n",
    "# Save file locally\n",
    "if saving_clean_data_to_dist:\n",
    "    print('Data saved...')\n",
    "    df_exp2.to_json('../data/cleaned_data/cleaned_data_exp2.json')\n",
    "else:\n",
    "    print('Data not saved...')"
   ]
  },
  {
   "cell_type": "code",
   "execution_count": 12,
   "id": "db700a14",
   "metadata": {},
   "outputs": [],
   "source": [
    "# Directory with model fits\n",
    "path_to_model_predictions = \"../data/model_fits/model_fits_exp1.csv\""
   ]
  },
  {
   "cell_type": "code",
   "execution_count": 13,
   "id": "8d63010d",
   "metadata": {},
   "outputs": [],
   "source": [
    "# Dataframe with model fits\n",
    "model_df = pd.read_csv(path_to_model_predictions)"
   ]
  },
  {
   "cell_type": "code",
   "execution_count": 14,
   "id": "a30ba2ce",
   "metadata": {},
   "outputs": [
    {
     "data": {
      "text/html": [
       "<div>\n",
       "<style scoped>\n",
       "    .dataframe tbody tr th:only-of-type {\n",
       "        vertical-align: middle;\n",
       "    }\n",
       "\n",
       "    .dataframe tbody tr th {\n",
       "        vertical-align: top;\n",
       "    }\n",
       "\n",
       "    .dataframe thead th {\n",
       "        text-align: right;\n",
       "    }\n",
       "</style>\n",
       "<table border=\"1\" class=\"dataframe\">\n",
       "  <thead>\n",
       "    <tr style=\"text-align: right;\">\n",
       "      <th></th>\n",
       "      <th>N</th>\n",
       "      <th>D</th>\n",
       "      <th>E</th>\n",
       "      <th>MSE Residual</th>\n",
       "      <th>MSE Model</th>\n",
       "      <th>MSE Total</th>\n",
       "    </tr>\n",
       "  </thead>\n",
       "  <tbody>\n",
       "    <tr>\n",
       "      <th>1894691</th>\n",
       "      <td>42</td>\n",
       "      <td>386</td>\n",
       "      <td>0.91</td>\n",
       "      <td>0.24696</td>\n",
       "      <td>1.981384e-10</td>\n",
       "      <td>0.241706</td>\n",
       "    </tr>\n",
       "  </tbody>\n",
       "</table>\n",
       "</div>"
      ],
      "text/plain": [
       "          N    D     E  MSE Residual     MSE Model  MSE Total\n",
       "1894691  42  386  0.91       0.24696  1.981384e-10   0.241706"
      ]
     },
     "execution_count": 14,
     "metadata": {},
     "output_type": "execute_result"
    }
   ],
   "source": [
    "# Sort model parameters based on MSE\n",
    "best_fitting_parameters = model_df[model_df['MSE Model'] <= min(model_df['MSE Model'])]\n",
    "best_fitting_parameters_exp1 = best_fitting_parameters\n",
    "best_fitting_parameters"
   ]
  },
  {
   "cell_type": "code",
   "execution_count": 15,
   "id": "3c01c027",
   "metadata": {},
   "outputs": [
    {
     "data": {
      "text/plain": [
       "True"
      ]
     },
     "execution_count": 15,
     "metadata": {},
     "output_type": "execute_result"
    }
   ],
   "source": [
    "all([model_df[model_df.N==x].D.describe()['min'] == 1 for x in set(model_df.N)])"
   ]
  },
  {
   "cell_type": "code",
   "execution_count": 16,
   "id": "36647bda",
   "metadata": {},
   "outputs": [
    {
     "data": {
      "text/plain": [
       "True"
      ]
     },
     "execution_count": 16,
     "metadata": {},
     "output_type": "execute_result"
    }
   ],
   "source": [
    "all([model_df[model_df.N==x].D.describe()['max'] == 1000 for x in set(model_df.N)])"
   ]
  },
  {
   "cell_type": "code",
   "execution_count": 17,
   "id": "50dc2ef2",
   "metadata": {},
   "outputs": [
    {
     "data": {
      "text/plain": [
       "(42, 386, 0.9100000000000004)"
      ]
     },
     "execution_count": 17,
     "metadata": {},
     "output_type": "execute_result"
    }
   ],
   "source": [
    "# Grab the best fitting parameters\n",
    "n = list(best_fitting_parameters['N'])[0]\n",
    "d = list(best_fitting_parameters['D'])[0]\n",
    "e = list(best_fitting_parameters['E'])[0]\n",
    "n,d,e"
   ]
  },
  {
   "cell_type": "code",
   "execution_count": 18,
   "id": "0c6cdf4a",
   "metadata": {},
   "outputs": [],
   "source": [
    "# Path to jsons of scenes\n",
    "path_to_scene_dir_exp2 = \"../data/json/experiment2\""
   ]
  },
  {
   "cell_type": "code",
   "execution_count": 19,
   "id": "9436a88b",
   "metadata": {},
   "outputs": [],
   "source": [
    "# Gather JSON files of scenes from Experiment 2\n",
    "scene_json_files_exp2 = [pos_json for pos_json in os.listdir(path_to_scene_dir_exp2) if pos_json.endswith('.json')]\n",
    "distance_df = pd.DataFrame({})\n",
    "for scene_file in scene_json_files_exp2:\n",
    "    # Get scene name\n",
    "    scene_name = scene_file.split('.')[0]\n",
    "    # Get path to scene file\n",
    "    path_to_scene_file = os.path.join(path_to_scene_dir_exp2, scene_file)\n",
    "    # Parse file into a scene pydantic model\n",
    "    scene_model = json_utilities.json_file_to_model(path_to_scene_file)\n",
    "    # Get model results for simulation and and blended model\n",
    "    simulation_model = model_utilities.SimulationModel(\n",
    "        {'view': False, 'noise': 0}\n",
    "    )\n",
    "    df_simulation_model_output = pd.DataFrame({})\n",
    "    simulation_model_sample = simulation_model.sample(scene_model)\n",
    "    simulation_model_sample = simulation_model_sample.model_dump()\n",
    "    df_simulation_model_sample = pd.DataFrame(simulation_model_sample, index=[0])\n",
    "    # Append those results to dataframe\n",
    "    scene_distance_df = pd.DataFrame(\n",
    "        {'scene':scene_name,\n",
    "         'distance':df_simulation_model_sample['trajectory_length']\n",
    "        }\n",
    "    )\n",
    "    distance_df = pd.concat([distance_df,scene_distance_df])"
   ]
  },
  {
   "cell_type": "code",
   "execution_count": 20,
   "id": "d869d633",
   "metadata": {},
   "outputs": [],
   "source": [
    "# Model results\n",
    "# Blended model\n",
    "model_blended_results_exp2 = pd.DataFrame({})\n",
    "# Pure simulation model\n",
    "model_simulation_results_exp2 = pd.DataFrame({})\n",
    "# Pure abstraction model\n",
    "model_abstraction_results_exp2 = pd.DataFrame({})\n",
    "# Number of samples to take from each model\n",
    "samples = 50\n",
    "# Set up inference models\n",
    "blended_model_parameters = {\n",
    "    'view': False,\n",
    "    'noise': 0.02,\n",
    "    'N': n,\n",
    "    'D': d,\n",
    "    'E': e,\n",
    "}\n",
    "abstraction_model_parameters = {\n",
    "    'view': False,\n",
    "    'noise': 0.02,\n",
    "    'N': 1,\n",
    "    'D': d,\n",
    "    'E': 0.0,\n",
    "}\n",
    "simulation_model_parameters = {\n",
    "    'view': False,\n",
    "    'noise': 0.0,\n",
    "}"
   ]
  },
  {
   "cell_type": "code",
   "execution_count": 21,
   "id": "f5901293",
   "metadata": {},
   "outputs": [],
   "source": [
    "for scene_file in scene_json_files_exp2:\n",
    "    # Get scene name\n",
    "    scene_name = scene_file.split('.')[0]\n",
    "    # Get path to scene file\n",
    "    path_to_scene_file = os.path.join(path_to_scene_dir_exp2, scene_file)\n",
    "    # Parse file into a scene pydantic model\n",
    "    scene_model = json_utilities.json_file_to_model(path_to_scene_file)\n",
    "    # Get model results for simulation and and blended model\n",
    "    blended_model = model_utilities.BlendedModel(\n",
    "        blended_model_parameters\n",
    "    )\n",
    "    df_blended_model_output = pd.DataFrame({})\n",
    "    # Sample model N times\n",
    "    for _ in range(samples):\n",
    "        blended_model_sample = blended_model.sample(scene_model)\n",
    "        blended_model_sample = blended_model_sample.model_dump()\n",
    "        df_blended_model_sample = pd.DataFrame(blended_model_sample, index=[0])\n",
    "        df_blended_model_output = pd.concat([df_blended_model_output, df_blended_model_sample])\n",
    "    # Collect statistics from samples\n",
    "    df_blended_result = pd.DataFrame(\n",
    "        {'scene':scene_name,\n",
    "         'collision_probability':np.mean(df_blended_model_output['collision']),\n",
    "         'simulation_time':df_blended_model_output['simulation_ticks'],\n",
    "         'distance':df_blended_model_output['trajectory_length'],\n",
    "         'type':'blended_model'\n",
    "        }\n",
    "    )\n",
    "    # Update results\n",
    "    model_blended_results_exp2 = pd.concat([model_blended_results_exp2,df_blended_result])"
   ]
  },
  {
   "cell_type": "code",
   "execution_count": 22,
   "id": "cf110e54",
   "metadata": {},
   "outputs": [],
   "source": [
    "for scene_file in scene_json_files_exp2:\n",
    "    # Get scene name\n",
    "    scene_name = scene_file.split('.')[0]\n",
    "    # Get path to scene file\n",
    "    path_to_scene_file = os.path.join(path_to_scene_dir_exp2, scene_file)\n",
    "    # Parse file into a scene pydantic model\n",
    "    scene_model = json_utilities.json_file_to_model(path_to_scene_file)\n",
    "    # Get model results for simulation and and blended model\n",
    "    simulation_model = model_utilities.SimulationModel(\n",
    "        simulation_model_parameters\n",
    "    )\n",
    "    df_simulation_model_output = pd.DataFrame({})\n",
    "    for _ in range(samples):\n",
    "        simulation_model_sample = simulation_model.sample(scene_model)\n",
    "        simulation_model_sample = simulation_model_sample.model_dump()\n",
    "        df_simulation_model_sample = pd.DataFrame(simulation_model_sample, index=[0])\n",
    "        df_simulation_model_output = pd.concat([df_simulation_model_output, df_simulation_model_sample])\n",
    "    # Append those results to dataframe\n",
    "    df_simulation_result = pd.DataFrame(\n",
    "        {'scene':scene_name,\n",
    "         'collision_probability':np.mean(df_simulation_model_output['collision']),\n",
    "         'simulation_time':df_simulation_model_output['simulation_ticks'],\n",
    "         'distance':df_simulation_model_output['trajectory_length'],\n",
    "         'type':'blended_model'\n",
    "        }\n",
    "    )\n",
    "    model_simulation_results_exp2 = pd.concat([model_simulation_results_exp2,df_simulation_result])"
   ]
  },
  {
   "cell_type": "code",
   "execution_count": 25,
   "id": "d0d38765",
   "metadata": {},
   "outputs": [
    {
     "name": "stdout",
     "output_type": "stream",
     "text": [
      "Scene file scene_2_26.json\n",
      "Scene file scene_1_20.json\n",
      "Scene file scene_1_2.json\n",
      "Scene file scene_2_7.json\n",
      "Scene file scene_2_10.json\n",
      "Scene file scene_1_16.json\n",
      "Scene file scene_1_17.json\n",
      "Scene file scene_2_11.json\n",
      "Scene file scene_2_6.json\n",
      "Scene file scene_1_3.json\n",
      "Scene file scene_1_21.json\n",
      "Scene file scene_2_27.json\n",
      "Scene file scene_1_4.json\n",
      "Scene file scene_2_1.json\n",
      "Scene file scene_2_16.json\n",
      "Scene file scene_1_10.json\n",
      "Scene file scene_2_20.json\n",
      "Scene file scene_1_8.json\n",
      "Scene file scene_1_26.json\n",
      "Scene file scene_1_27.json\n",
      "Scene file scene_1_9.json\n",
      "Scene file scene_2_21.json\n",
      "Scene file scene_1_11.json\n",
      "Scene file scene_2_17.json\n",
      "Scene file scene_2_0.json\n",
      "Scene file scene_1_5.json\n",
      "Scene file scene_1_12.json\n",
      "Scene file scene_2_14.json\n",
      "Scene file scene_2_3.json\n",
      "Scene file scene_1_28.json\n",
      "Scene file scene_1_6.json\n",
      "Scene file scene_2_18.json\n",
      "Scene file scene_1_24.json\n",
      "Scene file scene_2_22.json\n",
      "Scene file scene_2_23.json\n",
      "Scene file scene_1_25.json\n",
      "Scene file scene_2_19.json\n",
      "Scene file scene_1_7.json\n",
      "Scene file scene_2_2.json\n",
      "Scene file scene_2_15.json\n",
      "Scene file scene_1_13.json\n",
      "Scene file scene_1_18.json\n",
      "Scene file scene_2_9.json\n",
      "Scene file scene_1_22.json\n",
      "Scene file scene_2_24.json\n",
      "Scene file scene_1_14.json\n",
      "Scene file scene_2_12.json\n",
      "Scene file scene_2_5.json\n",
      "Scene file scene_1_0.json\n",
      "Scene file scene_2_28.json\n",
      "Scene file scene_1_1.json\n",
      "Scene file scene_2_4.json\n",
      "Scene file scene_2_13.json\n",
      "Scene file scene_1_15.json\n",
      "Scene file scene_2_25.json\n",
      "Scene file scene_1_23.json\n",
      "Scene file scene_2_8.json\n",
      "Scene file scene_1_19.json\n"
     ]
    }
   ],
   "source": [
    "for scene_file in scene_json_files_exp2:\n",
    "    print(f'Scene file {scene_file}')\n",
    "    # Get scene name\n",
    "    scene_name = scene_file.split('.')[0]\n",
    "    # Get path to scene file\n",
    "    path_to_scene_file = os.path.join(path_to_scene_dir_exp2, scene_file)\n",
    "    # Parse file into a scene pydantic model\n",
    "    scene_model = json_utilities.json_file_to_model(path_to_scene_file)\n",
    "    # Get model results for simulation and and blended model\n",
    "    abstraction_model = model_utilities.BlendedModel(\n",
    "        abstraction_model_parameters\n",
    "    )\n",
    "    df_abstraction_model_output = pd.DataFrame({})\n",
    "    # Sample model N times\n",
    "    for _ in range(samples):\n",
    "        abstraction_model_sample = abstraction_model.sample(scene_model)\n",
    "        abstraction_model_sample = abstraction_model_sample.model_dump()\n",
    "        df_abstraction_model_sample = pd.DataFrame(abstraction_model_sample, index=[0])\n",
    "        df_abstraction_model_output = pd.concat([df_abstraction_model_output, df_abstraction_model_sample])\n",
    "    # Collect statistics from samples\n",
    "    df_abstraction_result = pd.DataFrame(\n",
    "        {'scene':scene_name,\n",
    "         'collision_probability':np.mean(df_abstraction_model_output['collision']),\n",
    "         'simulation_time':df_abstraction_model_output['simulation_ticks'],\n",
    "         'distance':df_abstraction_model_output['trajectory_length'],\n",
    "         'type':'blended_model'\n",
    "        }\n",
    "    )\n",
    "    # Update results\n",
    "    model_abstraction_results_exp2 = pd.concat([model_abstraction_results_exp2,df_abstraction_result])"
   ]
  },
  {
   "cell_type": "code",
   "execution_count": 26,
   "id": "799d45ef",
   "metadata": {},
   "outputs": [],
   "source": [
    "blended_model_acc = model_blended_results_exp2.groupby('scene').collision_probability.mean().to_frame()\n",
    "blended_model_acc['model'] = 'blended'\n",
    "blended_model_acc = blended_model_acc.rename(columns={'collision_probability': 'correct'})"
   ]
  },
  {
   "cell_type": "code",
   "execution_count": 27,
   "id": "aedd7a57",
   "metadata": {},
   "outputs": [],
   "source": [
    "simulation_model_acc = model_simulation_results_exp2.groupby('scene').collision_probability.mean().to_frame()\n",
    "simulation_model_acc['model'] = 'simulation'\n",
    "simulation_model_acc = simulation_model_acc.rename(columns={'collision_probability': 'correct'})"
   ]
  },
  {
   "cell_type": "code",
   "execution_count": 28,
   "id": "0cd0ce63",
   "metadata": {},
   "outputs": [],
   "source": [
    "abstraction_model_acc = model_abstraction_results_exp2.groupby('scene').collision_probability.mean().to_frame()\n",
    "abstraction_model_acc['model'] = 'abstraction'\n",
    "abstraction_model_acc = abstraction_model_acc.rename(columns={'collision_probability': 'correct'})"
   ]
  },
  {
   "cell_type": "code",
   "execution_count": 29,
   "id": "447cf434",
   "metadata": {},
   "outputs": [],
   "source": [
    "empirical_acc = df_exp2.groupby('scene').correct.mean().to_frame()\n",
    "empirical_acc['model'] = 'empirical'"
   ]
  },
  {
   "cell_type": "code",
   "execution_count": 30,
   "id": "facd12e2",
   "metadata": {},
   "outputs": [],
   "source": [
    "accuracy_df = pd.concat([simulation_model_acc, empirical_acc, blended_model_acc, abstraction_model_acc])"
   ]
  },
  {
   "cell_type": "code",
   "execution_count": 31,
   "id": "b57eae81",
   "metadata": {},
   "outputs": [],
   "source": [
    "accuracy_df = accuracy_df.reset_index()\n",
    "accuracy_df['goal_point_idx'] = accuracy_df.scene.apply(lambda x: x.split('_')[-1])\n",
    "accuracy_df['scene_type'] = accuracy_df.scene.apply(lambda x: x.split('_')[1])\n",
    "accuracy_df = accuracy_df.merge(distance_df, on='scene')"
   ]
  },
  {
   "cell_type": "code",
   "execution_count": 32,
   "id": "4146745a",
   "metadata": {},
   "outputs": [
    {
     "data": {
      "image/png": "[encoded data removed]",
      "text/plain": [
       "<Figure size 1440x360 with 4 Axes>"
      ]
     },
     "metadata": {
      "needs_background": "light"
     },
     "output_type": "display_data"
    }
   ],
   "source": [
    "ax = sns.lmplot(\n",
    "    data=accuracy_df[accuracy_df.scene_type =='1'],\n",
    "    x=\"distance\",\n",
    "    y=\"correct\",\n",
    "    hue='model',\n",
    "    order=8,\n",
    "    col='model',\n",
    "    y_jitter=.01,\n",
    ")\n",
    "ax.set(ylim=(-0.1,1.2))\n",
    "axes = ax.axes.flatten()\n",
    "axes[0].set_title('Simulation',pad=15)\n",
    "axes[1].set_title('Empirical', pad=15)\n",
    "axes[2].set_title('Blended', pad=15)\n",
    "axes[3].set_title('abstraction', pad=15)\n",
    "ax.set_axis_labels(x_var='Distance', y_var='Accuracy')\n",
    "\n",
    "if True:\n",
    "    plt.savefig(f'{figure_dir}/exp2_results_panel.pdf')"
   ]
  },
  {
   "cell_type": "code",
   "execution_count": null,
   "id": "578cd7d1",
   "metadata": {},
   "outputs": [],
   "source": []
  },
  {
   "cell_type": "code",
   "execution_count": 33,
   "id": "d0213f05",
   "metadata": {},
   "outputs": [],
   "source": [
    "pivot = accuracy_df.pivot(index='scene', columns='model', values='correct')\n",
    "pivot = pivot.merge(distance_df, on ='scene')"
   ]
  },
  {
   "cell_type": "code",
   "execution_count": 34,
   "id": "c0f625ef",
   "metadata": {},
   "outputs": [],
   "source": [
    "pivot['simulation'] = pivot.simulation.apply(lambda x: x*np.random.normal(1,0.001))"
   ]
  },
  {
   "cell_type": "code",
   "execution_count": 35,
   "id": "d3c004c5",
   "metadata": {},
   "outputs": [],
   "source": [
    "mse_empirical_blended = np.mean((pivot['empirical'] - pivot['blended'])**2)\n",
    "mse_empirical_simulation = np.mean((pivot['empirical'] - pivot['simulation'])**2)\n",
    "mse_empirical_abstraction = np.mean((pivot['empirical'] - pivot['abstraction'])**2)"
   ]
  },
  {
   "cell_type": "code",
   "execution_count": 36,
   "id": "1c9c279f",
   "metadata": {},
   "outputs": [
    {
     "data": {
      "text/plain": [
       "0.030670264110642272"
      ]
     },
     "execution_count": 36,
     "metadata": {},
     "output_type": "execute_result"
    }
   ],
   "source": [
    "mse_empirical_blended"
   ]
  },
  {
   "cell_type": "code",
   "execution_count": 37,
   "id": "2e1eab34",
   "metadata": {},
   "outputs": [
    {
     "data": {
      "text/plain": [
       "0.19246259922712347"
      ]
     },
     "execution_count": 37,
     "metadata": {},
     "output_type": "execute_result"
    }
   ],
   "source": [
    "mse_empirical_simulation"
   ]
  },
  {
   "cell_type": "code",
   "execution_count": 38,
   "id": "f9ad610c",
   "metadata": {},
   "outputs": [
    {
     "data": {
      "text/plain": [
       "0.01723246138135813"
      ]
     },
     "execution_count": 38,
     "metadata": {},
     "output_type": "execute_result"
    }
   ],
   "source": [
    "mse_empirical_abstraction"
   ]
  },
  {
   "cell_type": "code",
   "execution_count": 39,
   "id": "9bd25597",
   "metadata": {},
   "outputs": [],
   "source": [
    "mle_blended = -58/2*(np.log(2*np.pi*mse_empirical_blended)+1)"
   ]
  },
  {
   "cell_type": "code",
   "execution_count": 40,
   "id": "8df5916e",
   "metadata": {},
   "outputs": [],
   "source": [
    "mle_abstraction = -58/2*(np.log(2*np.pi*mse_empirical_abstraction)+1)"
   ]
  },
  {
   "cell_type": "code",
   "execution_count": 41,
   "id": "dbd75c06",
   "metadata": {},
   "outputs": [],
   "source": [
    "mle_simulation = -58/2*(np.log(2*np.pi*mse_empirical_simulation)+1)"
   ]
  },
  {
   "cell_type": "code",
   "execution_count": 42,
   "id": "0682d97d",
   "metadata": {},
   "outputs": [
    {
     "data": {
      "text/plain": [
       "35.46941621715684"
      ]
     },
     "execution_count": 42,
     "metadata": {},
     "output_type": "execute_result"
    }
   ],
   "source": [
    "mle_abstraction"
   ]
  },
  {
   "cell_type": "code",
   "execution_count": 43,
   "id": "c3da5857",
   "metadata": {},
   "outputs": [
    {
     "data": {
      "text/plain": [
       "-34.5106853439246"
      ]
     },
     "execution_count": 43,
     "metadata": {},
     "output_type": "execute_result"
    }
   ],
   "source": [
    "mle_simulation"
   ]
  },
  {
   "cell_type": "code",
   "execution_count": 44,
   "id": "f94f76eb",
   "metadata": {},
   "outputs": [
    {
     "data": {
      "text/plain": [
       "6.3188397618894525"
      ]
     },
     "execution_count": 44,
     "metadata": {},
     "output_type": "execute_result"
    }
   ],
   "source": [
    "# BIC\n",
    "3*np.log(58) - 2*np.log(mle_blended)"
   ]
  },
  {
   "cell_type": "code",
   "execution_count": 45,
   "id": "bcc3ff04",
   "metadata": {},
   "outputs": [
    {
     "data": {
      "text/plain": [
       "0.9835444007841003"
      ]
     },
     "execution_count": 45,
     "metadata": {},
     "output_type": "execute_result"
    }
   ],
   "source": [
    "# BIC\n",
    "2*np.log(58) - 2*np.log(mle_abstraction)"
   ]
  },
  {
   "cell_type": "code",
   "execution_count": 46,
   "id": "94368beb",
   "metadata": {},
   "outputs": [
    {
     "name": "stderr",
     "output_type": "stream",
     "text": [
      "/var/folders/ll/n97j7j6n4hl40jzcp14wv24m0000gn/T/ipykernel_61355/2040747307.py:2: RuntimeWarning: invalid value encountered in log\n",
      "  2*np.log(58) - 2*np.log(mle_simulation)\n"
     ]
    },
    {
     "data": {
      "text/plain": [
       "nan"
      ]
     },
     "execution_count": 46,
     "metadata": {},
     "output_type": "execute_result"
    }
   ],
   "source": [
    "# BIC\n",
    "2*np.log(58) - 2*np.log(mle_simulation)"
   ]
  },
  {
   "cell_type": "code",
   "execution_count": null,
   "id": "7128e692",
   "metadata": {},
   "outputs": [],
   "source": []
  }
 ],
 "metadata": {
  "kernelspec": {
   "display_name": "Python 3 (ipykernel)",
   "language": "python",
   "name": "python3"
  },
  "language_info": {
   "codemirror_mode": {
    "name": "ipython",
    "version": 3
   },
   "file_extension": ".py",
   "mimetype": "text/x-python",
   "name": "python",
   "nbconvert_exporter": "python",
   "pygments_lexer": "ipython3",
   "version": "3.10.2"
  }
 },
 "nbformat": 4,
 "nbformat_minor": 5
}
