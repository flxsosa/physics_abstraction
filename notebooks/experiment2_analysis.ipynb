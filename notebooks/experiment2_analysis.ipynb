{
 "cells": [
  {
   "cell_type": "code",
   "execution_count": 1,
   "id": "9106fe51",
   "metadata": {},
   "outputs": [
    {
     "name": "stdout",
     "output_type": "stream",
     "text": [
      "pygame 2.1.2 (SDL 2.0.18, Python 3.10.2)\n",
      "Hello from the pygame community. https://www.pygame.org/contribute.html\n"
     ]
    }
   ],
   "source": [
    "import json\n",
    "import matplotlib.pyplot as plt\n",
    "import numpy as np\n",
    "import os\n",
    "import pandas as pd\n",
    "import seaborn as sns\n",
    "import statannotations.Annotator as statannotator\n",
    "import statsmodels.api as sm\n",
    "import statsmodels.formula.api as smf\n",
    "import sys\n",
    "\n",
    "# Appending python modules so we can run simulations\n",
    "sys.path.append('../python')\n",
    "\n",
    "import json_utilities\n",
    "import model_utilities\n",
    "from matplotlib.pyplot import figure\n",
    "from pymunk.vec2d import Vec2d\n",
    "from scipy import stats"
   ]
  },
  {
   "cell_type": "code",
   "execution_count": 2,
   "id": "ed64ed9e",
   "metadata": {},
   "outputs": [],
   "source": [
    "# Are we saving figures?\n",
    "saving_figures = False\n",
    "figure_dir = '../paper/figures/src'"
   ]
  },
  {
   "cell_type": "code",
   "execution_count": 3,
   "id": "4bf39607",
   "metadata": {},
   "outputs": [],
   "source": [
    "sns.set_theme(\n",
    "    style='whitegrid',\n",
    "    palette='bright',\n",
    "    font_scale=2,\n",
    "    rc={\n",
    "        'figure.dpi':300,\n",
    "        'font.family':'sans-serif',\n",
    "        'font.sans-serif':['Helvetica'],\n",
    "    },\n",
    ")\n"
   ]
  },
  {
   "cell_type": "code",
   "execution_count": 4,
   "id": "b29d2666",
   "metadata": {},
   "outputs": [],
   "source": [
    "df_exp2 = pd.read_json('../data/cleaned_data/cleaned_data_exp2.json')"
   ]
  },
  {
   "cell_type": "code",
   "execution_count": 5,
   "id": "db700a14",
   "metadata": {},
   "outputs": [],
   "source": [
    "# Directory with model fits\n",
    "path_to_model_predictions = \"../data/model_fits/model_fits_exp1.csv\"\n",
    "path_to_model_predictions = os.path.expanduser('~/Desktop/model_fits.csv')"
   ]
  },
  {
   "cell_type": "code",
   "execution_count": 6,
   "id": "8d63010d",
   "metadata": {},
   "outputs": [],
   "source": [
    "# Dataframe with model fits\n",
    "model_df = pd.read_csv(path_to_model_predictions)"
   ]
  },
  {
   "cell_type": "code",
   "execution_count": 7,
   "id": "a30ba2ce",
   "metadata": {},
   "outputs": [
    {
     "data": {
      "text/html": [
       "<div>\n",
       "<style scoped>\n",
       "    .dataframe tbody tr th:only-of-type {\n",
       "        vertical-align: middle;\n",
       "    }\n",
       "\n",
       "    .dataframe tbody tr th {\n",
       "        vertical-align: top;\n",
       "    }\n",
       "\n",
       "    .dataframe thead th {\n",
       "        text-align: right;\n",
       "    }\n",
       "</style>\n",
       "<table border=\"1\" class=\"dataframe\">\n",
       "  <thead>\n",
       "    <tr style=\"text-align: right;\">\n",
       "      <th></th>\n",
       "      <th>N</th>\n",
       "      <th>D</th>\n",
       "      <th>E</th>\n",
       "      <th>Noise</th>\n",
       "      <th>mse</th>\n",
       "    </tr>\n",
       "  </thead>\n",
       "  <tbody>\n",
       "    <tr>\n",
       "      <th>34787</th>\n",
       "      <td>5</td>\n",
       "      <td>75</td>\n",
       "      <td>0.9</td>\n",
       "      <td>0.0</td>\n",
       "      <td>8.17879</td>\n",
       "    </tr>\n",
       "  </tbody>\n",
       "</table>\n",
       "</div>"
      ],
      "text/plain": [
       "       N   D    E  Noise      mse\n",
       "34787  5  75  0.9    0.0  8.17879"
      ]
     },
     "execution_count": 7,
     "metadata": {},
     "output_type": "execute_result"
    }
   ],
   "source": [
    "# Sort model parameters based on MSE\n",
    "best_fitting_parameters = model_df[model_df['mse'] >= max(model_df['mse'])]\n",
    "best_fitting_parameters_exp1 = best_fitting_parameters\n",
    "best_fitting_parameters"
   ]
  },
  {
   "cell_type": "code",
   "execution_count": 8,
   "id": "50dc2ef2",
   "metadata": {},
   "outputs": [
    {
     "data": {
      "text/plain": [
       "(5, 75, 0.9, 0.0)"
      ]
     },
     "execution_count": 8,
     "metadata": {},
     "output_type": "execute_result"
    }
   ],
   "source": [
    "# Grab the best fitting parameters\n",
    "n = list(best_fitting_parameters['N'])[0]\n",
    "d = list(best_fitting_parameters['D'])[0]\n",
    "e = list(best_fitting_parameters['E'])[0]\n",
    "noise = list(best_fitting_parameters['Noise'])[0]\n",
    "n,d,e, noise"
   ]
  },
  {
   "cell_type": "code",
   "execution_count": 9,
   "id": "0c6cdf4a",
   "metadata": {},
   "outputs": [],
   "source": [
    "# Path to jsons of scenes\n",
    "path_to_scene_dir_exp2 = \"../data/json/experiment2\""
   ]
  },
  {
   "cell_type": "code",
   "execution_count": 10,
   "id": "9436a88b",
   "metadata": {},
   "outputs": [],
   "source": [
    "# Gather JSON files of scenes from Experiment 2\n",
    "scene_json_files_exp2 = [pos_json for pos_json in os.listdir(path_to_scene_dir_exp2) if pos_json.endswith('.json')]\n",
    "distance_df = pd.DataFrame({})\n",
    "for scene_file in scene_json_files_exp2:\n",
    "    # Get scene name\n",
    "    scene_name = scene_file.split('.')[0]\n",
    "    # Get path to scene file\n",
    "    path_to_scene_file = os.path.join(path_to_scene_dir_exp2, scene_file)\n",
    "    # Parse file into a scene pydantic model\n",
    "    scene_model = json_utilities.json_file_to_model(path_to_scene_file)\n",
    "    # Get model results for simulation and and blended model\n",
    "    simulation_model = model_utilities.SimulationModel(\n",
    "        {'view': False, 'noise': 0}\n",
    "    )\n",
    "    df_simulation_model_output = pd.DataFrame({})\n",
    "    simulation_model_sample = simulation_model.sample(scene_model)\n",
    "    simulation_model_sample = simulation_model_sample.model_dump()\n",
    "    df_simulation_model_sample = pd.DataFrame(simulation_model_sample, index=[0])\n",
    "    # Append those results to dataframe\n",
    "    scene_distance_df = pd.DataFrame(\n",
    "        {'scene':scene_name,\n",
    "         'distance':df_simulation_model_sample['trajectory_length']\n",
    "        }\n",
    "    )\n",
    "    distance_df = pd.concat([distance_df,scene_distance_df])"
   ]
  },
  {
   "cell_type": "code",
   "execution_count": 11,
   "id": "d869d633",
   "metadata": {},
   "outputs": [],
   "source": [
    "# Model results\n",
    "# Blended model\n",
    "model_blended_results_exp2 = pd.DataFrame({})\n",
    "# Pure simulation model\n",
    "model_simulation_results_exp2 = pd.DataFrame({})\n",
    "# Pure abstraction model\n",
    "model_abstraction_results_exp2 = pd.DataFrame({})\n",
    "# Number of samples to take from each model\n",
    "samples = 50\n",
    "# Set up inference models\n",
    "blended_model_parameters = {\n",
    "    'view': False,\n",
    "    'noise': 0.001,\n",
    "    'N': n,\n",
    "    'D': d,\n",
    "    'E': e,\n",
    "}\n",
    "abstraction_model_parameters = {\n",
    "    'view': False,\n",
    "    'noise': 0.001,\n",
    "    'N': 1,\n",
    "    'D': d,\n",
    "    'E': 0.0,\n",
    "}\n",
    "simulation_model_parameters = {\n",
    "    'view': False,\n",
    "    'noise': 0.001,\n",
    "}"
   ]
  },
  {
   "cell_type": "code",
   "execution_count": 12,
   "id": "f5901293",
   "metadata": {},
   "outputs": [],
   "source": [
    "for scene_file in scene_json_files_exp2:\n",
    "    # Get scene name\n",
    "    scene_name = scene_file.split('.')[0]\n",
    "    # Get path to scene file\n",
    "    path_to_scene_file = os.path.join(path_to_scene_dir_exp2, scene_file)\n",
    "    # Parse file into a scene pydantic model\n",
    "    scene_model = json_utilities.json_file_to_model(path_to_scene_file)\n",
    "    # Get model results for simulation and and blended model\n",
    "    blended_model = model_utilities.BlendedModel(\n",
    "        blended_model_parameters\n",
    "    )\n",
    "    df_blended_model_output = pd.DataFrame({})\n",
    "    # Sample model N times\n",
    "    for _ in range(samples):\n",
    "        blended_model_sample = blended_model.sample(scene_model)\n",
    "        blended_model_sample = blended_model_sample.model_dump()\n",
    "        df_blended_model_sample = pd.DataFrame(blended_model_sample, index=[0])\n",
    "        df_blended_model_output = pd.concat([df_blended_model_output, df_blended_model_sample])\n",
    "        # Collect statistics from samples\n",
    "        df_blended_result = pd.DataFrame(\n",
    "            {'scene':scene_name,\n",
    "             'collision_probability':np.mean(df_blended_model_output['collision']),\n",
    "             'simulation_time':df_blended_model_output['simulation_ticks'],\n",
    "             'distance':df_blended_model_output['trajectory_length'],\n",
    "             'type':'blended_model'\n",
    "            }\n",
    "        )\n",
    "    # Update results\n",
    "    model_blended_results_exp2 = pd.concat([model_blended_results_exp2,df_blended_result])"
   ]
  },
  {
   "cell_type": "code",
   "execution_count": 13,
   "id": "cf110e54",
   "metadata": {},
   "outputs": [],
   "source": [
    "for scene_file in scene_json_files_exp2:\n",
    "    # Get scene name\n",
    "    scene_name = scene_file.split('.')[0]\n",
    "    # Get path to scene file\n",
    "    path_to_scene_file = os.path.join(path_to_scene_dir_exp2, scene_file)\n",
    "    # Parse file into a scene pydantic model\n",
    "    scene_model = json_utilities.json_file_to_model(path_to_scene_file)\n",
    "    # Get model results for simulation and and blended model\n",
    "    simulation_model = model_utilities.SimulationModel(\n",
    "        simulation_model_parameters\n",
    "    )\n",
    "    df_simulation_model_output = pd.DataFrame({})\n",
    "    for _ in range(samples):\n",
    "        simulation_model_sample = simulation_model.sample(scene_model)\n",
    "        simulation_model_sample = simulation_model_sample.model_dump()\n",
    "        df_simulation_model_sample = pd.DataFrame(simulation_model_sample, index=[0])\n",
    "        df_simulation_model_output = pd.concat([df_simulation_model_output, df_simulation_model_sample])\n",
    "    # Append those results to dataframe\n",
    "    df_simulation_result = pd.DataFrame(\n",
    "        {'scene':scene_name,\n",
    "         'collision_probability':np.mean(df_simulation_model_output['collision']),\n",
    "         'simulation_time':df_simulation_model_output['simulation_ticks'],\n",
    "         'distance':df_simulation_model_output['trajectory_length'],\n",
    "         'type':'blended_model'\n",
    "        }\n",
    "    )\n",
    "    model_simulation_results_exp2 = pd.concat([model_simulation_results_exp2,df_simulation_result])"
   ]
  },
  {
   "cell_type": "code",
   "execution_count": 14,
   "id": "d0d38765",
   "metadata": {},
   "outputs": [],
   "source": [
    "for scene_file in scene_json_files_exp2:\n",
    "    # Get scene name\n",
    "    scene_name = scene_file.split('.')[0]\n",
    "    # Get path to scene file\n",
    "    path_to_scene_file = os.path.join(path_to_scene_dir_exp2, scene_file)\n",
    "    # Parse file into a scene pydantic model\n",
    "    scene_model = json_utilities.json_file_to_model(path_to_scene_file)\n",
    "    # Get model results for simulation and and blended model\n",
    "    abstraction_model = model_utilities.BlendedModel(\n",
    "        abstraction_model_parameters\n",
    "    )\n",
    "    df_abstraction_model_output = pd.DataFrame({})\n",
    "    # Sample model N times\n",
    "    for _ in range(samples):\n",
    "        abstraction_model_sample = abstraction_model.sample(scene_model)\n",
    "        abstraction_model_sample = abstraction_model_sample.model_dump()\n",
    "        df_abstraction_model_sample = pd.DataFrame(abstraction_model_sample, index=[0])\n",
    "        df_abstraction_model_output = pd.concat([df_abstraction_model_output, df_abstraction_model_sample])\n",
    "    # Collect statistics from samples\n",
    "    df_abstraction_result = pd.DataFrame(\n",
    "        {'scene':scene_name,\n",
    "         'collision_probability':np.mean(df_abstraction_model_output['collision']),\n",
    "         'simulation_time':df_abstraction_model_output['simulation_ticks'],\n",
    "         'distance':df_abstraction_model_output['trajectory_length'],\n",
    "         'type':'blended_model'\n",
    "        }\n",
    "    )\n",
    "    # Update results\n",
    "    model_abstraction_results_exp2 = pd.concat([model_abstraction_results_exp2,df_abstraction_result])"
   ]
  },
  {
   "cell_type": "code",
   "execution_count": 15,
   "id": "799d45ef",
   "metadata": {},
   "outputs": [
    {
     "name": "stderr",
     "output_type": "stream",
     "text": [
      "/var/folders/ll/n97j7j6n4hl40jzcp14wv24m0000gn/T/ipykernel_55123/3585766579.py:3: SettingWithCopyWarning: \n",
      "A value is trying to be set on a copy of a slice from a DataFrame.\n",
      "Try using .loc[row_indexer,col_indexer] = value instead\n",
      "\n",
      "See the caveats in the documentation: https://pandas.pydata.org/pandas-docs/stable/user_guide/indexing.html#returning-a-view-versus-a-copy\n",
      "  blended_model_acc['model'] = 'blended'\n"
     ]
    }
   ],
   "source": [
    "# blended_model_acc = model_blended_results_exp2.groupby('scene').collision_probability.mean().to_frame()\n",
    "blended_model_acc = model_blended_results_exp2[['collision_probability', 'scene']]\n",
    "blended_model_acc['model'] = 'blended'\n",
    "blended_model_acc = blended_model_acc.rename(columns={'collision_probability': 'correct'})\n",
    "blended_model_acc = blended_model_acc.reset_index(drop=True)"
   ]
  },
  {
   "cell_type": "code",
   "execution_count": 16,
   "id": "aedd7a57",
   "metadata": {},
   "outputs": [
    {
     "name": "stderr",
     "output_type": "stream",
     "text": [
      "/var/folders/ll/n97j7j6n4hl40jzcp14wv24m0000gn/T/ipykernel_55123/2769324660.py:3: SettingWithCopyWarning: \n",
      "A value is trying to be set on a copy of a slice from a DataFrame.\n",
      "Try using .loc[row_indexer,col_indexer] = value instead\n",
      "\n",
      "See the caveats in the documentation: https://pandas.pydata.org/pandas-docs/stable/user_guide/indexing.html#returning-a-view-versus-a-copy\n",
      "  simulation_model_acc['model'] = 'simulation'\n"
     ]
    }
   ],
   "source": [
    "# simulation_model_acc = model_simulation_results_exp2.groupby('scene').collision_probability.mean().to_frame()\n",
    "simulation_model_acc = model_simulation_results_exp2[['collision_probability', 'scene']]\n",
    "simulation_model_acc['model'] = 'simulation'\n",
    "simulation_model_acc = simulation_model_acc.rename(columns={'collision_probability': 'correct'})\n",
    "simulation_model_acc = simulation_model_acc.reset_index(drop=True)"
   ]
  },
  {
   "cell_type": "code",
   "execution_count": 17,
   "id": "0cd0ce63",
   "metadata": {},
   "outputs": [
    {
     "name": "stderr",
     "output_type": "stream",
     "text": [
      "/var/folders/ll/n97j7j6n4hl40jzcp14wv24m0000gn/T/ipykernel_55123/2869950598.py:3: SettingWithCopyWarning: \n",
      "A value is trying to be set on a copy of a slice from a DataFrame.\n",
      "Try using .loc[row_indexer,col_indexer] = value instead\n",
      "\n",
      "See the caveats in the documentation: https://pandas.pydata.org/pandas-docs/stable/user_guide/indexing.html#returning-a-view-versus-a-copy\n",
      "  abstraction_model_acc['model'] = 'abstraction'\n"
     ]
    }
   ],
   "source": [
    "# abstraction_model_acc = model_abstraction_results_exp2.groupby('scene').collision_probability.mean().to_frame()\n",
    "abstraction_model_acc = model_abstraction_results_exp2[['collision_probability', 'scene']]\n",
    "abstraction_model_acc['model'] = 'abstraction'\n",
    "abstraction_model_acc = abstraction_model_acc.rename(columns={'collision_probability': 'correct'})\n",
    "abstraction_model_acc = abstraction_model_acc.reset_index(drop=True)"
   ]
  },
  {
   "cell_type": "code",
   "execution_count": 18,
   "id": "447cf434",
   "metadata": {},
   "outputs": [
    {
     "name": "stderr",
     "output_type": "stream",
     "text": [
      "/var/folders/ll/n97j7j6n4hl40jzcp14wv24m0000gn/T/ipykernel_55123/735060496.py:2: SettingWithCopyWarning: \n",
      "A value is trying to be set on a copy of a slice from a DataFrame.\n",
      "Try using .loc[row_indexer,col_indexer] = value instead\n",
      "\n",
      "See the caveats in the documentation: https://pandas.pydata.org/pandas-docs/stable/user_guide/indexing.html#returning-a-view-versus-a-copy\n",
      "  empirical_acc['model'] = 'empirical'\n"
     ]
    }
   ],
   "source": [
    "empirical_acc = df_exp2[['correct','scene']]\n",
    "empirical_acc['model'] = 'empirical'"
   ]
  },
  {
   "cell_type": "code",
   "execution_count": null,
   "id": "e2d48961",
   "metadata": {},
   "outputs": [],
   "source": []
  },
  {
   "cell_type": "code",
   "execution_count": 19,
   "id": "facd12e2",
   "metadata": {},
   "outputs": [],
   "source": [
    "accuracy_df = pd.concat([simulation_model_acc, empirical_acc, blended_model_acc, abstraction_model_acc])"
   ]
  },
  {
   "cell_type": "code",
   "execution_count": 20,
   "id": "c802eee1",
   "metadata": {},
   "outputs": [],
   "source": [
    "accuracy_df = accuracy_df.reset_index(drop=True)"
   ]
  },
  {
   "cell_type": "code",
   "execution_count": 21,
   "id": "9013e1a8",
   "metadata": {
    "scrolled": true
   },
   "outputs": [],
   "source": [
    "accuracy_df['goal_point_idx'] = accuracy_df.scene.apply(lambda x: x.split('_')[-1])\n",
    "accuracy_df['scene_type'] = accuracy_df.scene.apply(lambda x: x.split('_')[1])\n",
    "accuracy_df = accuracy_df.merge(distance_df, on='scene')"
   ]
  },
  {
   "cell_type": "code",
   "execution_count": 22,
   "id": "4146745a",
   "metadata": {},
   "outputs": [
    {
     "data": {
      "image/png": "[encoded data removed]",
      "text/plain": [
       "<Figure size 1440x360 with 4 Axes>"
      ]
     },
     "metadata": {
      "needs_background": "light"
     },
     "output_type": "display_data"
    }
   ],
   "source": [
    "ax = sns.lmplot(\n",
    "    data=accuracy_df[accuracy_df.scene_type =='1'],\n",
    "    x=\"distance\",\n",
    "    y=\"correct\",\n",
    "    hue='model',\n",
    "    order=8,\n",
    "    col='model',\n",
    "    col_order=[\n",
    "        'empirical',\n",
    "        'blended',\n",
    "        'abstraction',\n",
    "        'simulation',\n",
    "    ],\n",
    "    y_jitter=.01,\n",
    "    palette='viridis',\n",
    "    ci=None,\n",
    "    x_ci=95,\n",
    "    x_estimator=np.mean\n",
    ")\n",
    "ax.set(ylim=(-0.1,1.2))\n",
    "axes = ax.axes.flatten()\n",
    "axes[0].set_title('Human Data',pad=15)\n",
    "axes[1].set_title('Blended Model', pad=15)\n",
    "axes[2].set_title('Abstraction Model', pad=15)\n",
    "axes[3].set_title('Simulation Model', pad=15)\n",
    "ax.set_axis_labels(x_var='Distance', y_var='Accuracy')\n",
    "\n",
    "if True:\n",
    "    plt.savefig(f'{figure_dir}/exp2_results_panel.pdf')"
   ]
  },
  {
   "cell_type": "code",
   "execution_count": 23,
   "id": "6795d217",
   "metadata": {},
   "outputs": [
    {
     "data": {
      "text/html": [
       "<div>\n",
       "<style scoped>\n",
       "    .dataframe tbody tr th:only-of-type {\n",
       "        vertical-align: middle;\n",
       "    }\n",
       "\n",
       "    .dataframe tbody tr th {\n",
       "        vertical-align: top;\n",
       "    }\n",
       "\n",
       "    .dataframe thead th {\n",
       "        text-align: right;\n",
       "    }\n",
       "</style>\n",
       "<table border=\"1\" class=\"dataframe\">\n",
       "  <thead>\n",
       "    <tr style=\"text-align: right;\">\n",
       "      <th></th>\n",
       "      <th>correct</th>\n",
       "      <th>scene</th>\n",
       "      <th>model</th>\n",
       "      <th>goal_point_idx</th>\n",
       "      <th>scene_type</th>\n",
       "      <th>distance</th>\n",
       "    </tr>\n",
       "  </thead>\n",
       "  <tbody>\n",
       "    <tr>\n",
       "      <th>0</th>\n",
       "      <td>1.0</td>\n",
       "      <td>scene_2_26</td>\n",
       "      <td>simulation</td>\n",
       "      <td>26</td>\n",
       "      <td>2</td>\n",
       "      <td>754.403018</td>\n",
       "    </tr>\n",
       "    <tr>\n",
       "      <th>1</th>\n",
       "      <td>1.0</td>\n",
       "      <td>scene_2_26</td>\n",
       "      <td>simulation</td>\n",
       "      <td>26</td>\n",
       "      <td>2</td>\n",
       "      <td>754.403018</td>\n",
       "    </tr>\n",
       "    <tr>\n",
       "      <th>2</th>\n",
       "      <td>1.0</td>\n",
       "      <td>scene_2_26</td>\n",
       "      <td>simulation</td>\n",
       "      <td>26</td>\n",
       "      <td>2</td>\n",
       "      <td>754.403018</td>\n",
       "    </tr>\n",
       "    <tr>\n",
       "      <th>3</th>\n",
       "      <td>1.0</td>\n",
       "      <td>scene_2_26</td>\n",
       "      <td>simulation</td>\n",
       "      <td>26</td>\n",
       "      <td>2</td>\n",
       "      <td>754.403018</td>\n",
       "    </tr>\n",
       "    <tr>\n",
       "      <th>4</th>\n",
       "      <td>1.0</td>\n",
       "      <td>scene_2_26</td>\n",
       "      <td>simulation</td>\n",
       "      <td>26</td>\n",
       "      <td>2</td>\n",
       "      <td>754.403018</td>\n",
       "    </tr>\n",
       "    <tr>\n",
       "      <th>...</th>\n",
       "      <td>...</td>\n",
       "      <td>...</td>\n",
       "      <td>...</td>\n",
       "      <td>...</td>\n",
       "      <td>...</td>\n",
       "      <td>...</td>\n",
       "    </tr>\n",
       "    <tr>\n",
       "      <th>17304</th>\n",
       "      <td>0.0</td>\n",
       "      <td>scene_1_19</td>\n",
       "      <td>abstraction</td>\n",
       "      <td>19</td>\n",
       "      <td>1</td>\n",
       "      <td>773.612432</td>\n",
       "    </tr>\n",
       "    <tr>\n",
       "      <th>17305</th>\n",
       "      <td>0.0</td>\n",
       "      <td>scene_1_19</td>\n",
       "      <td>abstraction</td>\n",
       "      <td>19</td>\n",
       "      <td>1</td>\n",
       "      <td>773.612432</td>\n",
       "    </tr>\n",
       "    <tr>\n",
       "      <th>17306</th>\n",
       "      <td>0.0</td>\n",
       "      <td>scene_1_19</td>\n",
       "      <td>abstraction</td>\n",
       "      <td>19</td>\n",
       "      <td>1</td>\n",
       "      <td>773.612432</td>\n",
       "    </tr>\n",
       "    <tr>\n",
       "      <th>17307</th>\n",
       "      <td>0.0</td>\n",
       "      <td>scene_1_19</td>\n",
       "      <td>abstraction</td>\n",
       "      <td>19</td>\n",
       "      <td>1</td>\n",
       "      <td>773.612432</td>\n",
       "    </tr>\n",
       "    <tr>\n",
       "      <th>17308</th>\n",
       "      <td>0.0</td>\n",
       "      <td>scene_1_19</td>\n",
       "      <td>abstraction</td>\n",
       "      <td>19</td>\n",
       "      <td>1</td>\n",
       "      <td>773.612432</td>\n",
       "    </tr>\n",
       "  </tbody>\n",
       "</table>\n",
       "<p>17309 rows × 6 columns</p>\n",
       "</div>"
      ],
      "text/plain": [
       "       correct       scene        model goal_point_idx scene_type    distance\n",
       "0          1.0  scene_2_26   simulation             26          2  754.403018\n",
       "1          1.0  scene_2_26   simulation             26          2  754.403018\n",
       "2          1.0  scene_2_26   simulation             26          2  754.403018\n",
       "3          1.0  scene_2_26   simulation             26          2  754.403018\n",
       "4          1.0  scene_2_26   simulation             26          2  754.403018\n",
       "...        ...         ...          ...            ...        ...         ...\n",
       "17304      0.0  scene_1_19  abstraction             19          1  773.612432\n",
       "17305      0.0  scene_1_19  abstraction             19          1  773.612432\n",
       "17306      0.0  scene_1_19  abstraction             19          1  773.612432\n",
       "17307      0.0  scene_1_19  abstraction             19          1  773.612432\n",
       "17308      0.0  scene_1_19  abstraction             19          1  773.612432\n",
       "\n",
       "[17309 rows x 6 columns]"
      ]
     },
     "execution_count": 23,
     "metadata": {},
     "output_type": "execute_result"
    }
   ],
   "source": [
    "accuracy_df"
   ]
  },
  {
   "cell_type": "code",
   "execution_count": 24,
   "id": "276dfc7c",
   "metadata": {},
   "outputs": [
    {
     "name": "stderr",
     "output_type": "stream",
     "text": [
      "/var/folders/ll/n97j7j6n4hl40jzcp14wv24m0000gn/T/ipykernel_55123/735060496.py:2: SettingWithCopyWarning: \n",
      "A value is trying to be set on a copy of a slice from a DataFrame.\n",
      "Try using .loc[row_indexer,col_indexer] = value instead\n",
      "\n",
      "See the caveats in the documentation: https://pandas.pydata.org/pandas-docs/stable/user_guide/indexing.html#returning-a-view-versus-a-copy\n",
      "  empirical_acc['model'] = 'empirical'\n"
     ]
    }
   ],
   "source": [
    "empirical_acc = df_exp2[['correct','scene']]\n",
    "empirical_acc['model'] = 'empirical'"
   ]
  },
  {
   "cell_type": "code",
   "execution_count": 25,
   "id": "7128e692",
   "metadata": {},
   "outputs": [],
   "source": [
    "pivot_table = accuracy_df.pivot_table(index='scene', columns='model', values = 'correct', aggfunc='mean')"
   ]
  },
  {
   "cell_type": "code",
   "execution_count": 26,
   "id": "1b52df30",
   "metadata": {},
   "outputs": [],
   "source": [
    "# Formula for empirical data to blended model\n",
    "emp_simulation_formula = 'empirical ~ simulation'\n",
    "\n",
    "# Ordinary linear models based on path condition for empirical data\n",
    "simulation_model_predictions = smf.ols(\n",
    "    emp_simulation_formula,\n",
    "    pivot_table\n",
    ").fit()\n",
    "\n",
    "# Parameters from both models\n",
    "intercept = simulation_model_predictions.params.Intercept\n",
    "coefficient = simulation_model_predictions.params.simulation\n",
    "\n",
    "pivot_table['simulation_fit'] = pivot_table.simulation.apply(lambda x: intercept + coefficient*x)"
   ]
  },
  {
   "cell_type": "code",
   "execution_count": 27,
   "id": "23312ac9",
   "metadata": {},
   "outputs": [],
   "source": [
    "# Formula for empirical data to blended model\n",
    "emp_simulation_formula = 'empirical ~ blended'\n",
    "\n",
    "# Ordinary linear models based on path condition for empirical data\n",
    "simulation_model_predictions = smf.ols(\n",
    "    emp_simulation_formula,\n",
    "    pivot_table\n",
    ").fit()\n",
    "\n",
    "# Parameters from both models\n",
    "intercept = simulation_model_predictions.params.Intercept\n",
    "coefficient = simulation_model_predictions.params.blended\n",
    "\n",
    "pivot_table['blended_fit'] = pivot_table.blended.apply(lambda x: intercept + coefficient*x)"
   ]
  },
  {
   "cell_type": "code",
   "execution_count": 28,
   "id": "d304c4f5",
   "metadata": {},
   "outputs": [],
   "source": [
    "# Formula for empirical data to blended model\n",
    "emp_simulation_formula = 'empirical ~ abstraction'\n",
    "\n",
    "# Ordinary linear models based on path condition for empirical data\n",
    "simulation_model_predictions = smf.ols(\n",
    "    emp_simulation_formula,\n",
    "    pivot_table\n",
    ").fit()\n",
    "\n",
    "# Parameters from both models\n",
    "intercept = simulation_model_predictions.params.Intercept\n",
    "coefficient = simulation_model_predictions.params.abstraction\n",
    "\n",
    "pivot_table['simulation_fit'] = pivot_table.abstraction.apply(lambda x: intercept + coefficient*x)"
   ]
  },
  {
   "cell_type": "code",
   "execution_count": 29,
   "id": "efca993b",
   "metadata": {},
   "outputs": [],
   "source": [
    "num_observations = len(pivot_table)"
   ]
  },
  {
   "cell_type": "code",
   "execution_count": 30,
   "id": "9282c15b",
   "metadata": {},
   "outputs": [],
   "source": [
    "mse_empirical_blended = np.mean((pivot_table['empirical'] - pivot_table['blended'])**2)\n",
    "mse_empirical_simulation = np.mean((pivot_table['empirical'] - pivot_table['simulation'])**2)\n",
    "mse_empirical_abstraction = np.mean((pivot_table['empirical'] - pivot_table['abstraction'])**2)"
   ]
  },
  {
   "cell_type": "code",
   "execution_count": 31,
   "id": "1dee0bff",
   "metadata": {},
   "outputs": [
    {
     "name": "stdout",
     "output_type": "stream",
     "text": [
      "MSE of Blended Model predictions: 0.023163269360010317\n",
      "MSE of Abstraction Model predictions: 0.025628987028345655\n",
      "MSE of Simulation Model predictions: 0.19240134749926338\n"
     ]
    }
   ],
   "source": [
    "print(f'MSE of Blended Model predictions: {mse_empirical_blended}')\n",
    "print(f'MSE of Abstraction Model predictions: {mse_empirical_abstraction}')\n",
    "print(f'MSE of Simulation Model predictions: {mse_empirical_simulation}')"
   ]
  },
  {
   "cell_type": "code",
   "execution_count": 38,
   "id": "6b140be0",
   "metadata": {},
   "outputs": [],
   "source": [
    "log_like_blended = -num_observations/2 * (np.log(2*np.pi * mse_empirical_blended) + 1)\n",
    "log_like_simulation = -num_observations/2 * (np.log(2*np.pi * mse_empirical_simulation) + 1)\n",
    "log_like_abstraction = -num_observations/2 * (np.log(2*np.pi * mse_empirical_abstraction) + 1)"
   ]
  },
  {
   "cell_type": "code",
   "execution_count": 41,
   "id": "e9e4a7e3",
   "metadata": {},
   "outputs": [
    {
     "name": "stdout",
     "output_type": "stream",
     "text": [
      "Log-like of Blended Model predictions: 26.892001766873804\n",
      "Log-like of Abstraction Model predictions: 23.95847168014949\n",
      "Log-like of Simulation Model predictions: -34.501454548792715\n"
     ]
    }
   ],
   "source": [
    "print(f'Log-like of Blended Model predictions: {log_like_blended}')\n",
    "print(f'Log-like of Abstraction Model predictions: {log_like_abstraction}')\n",
    "print(f'Log-like of Simulation Model predictions: {log_like_simulation}')"
   ]
  },
  {
   "cell_type": "code",
   "execution_count": 42,
   "id": "29eae6d7",
   "metadata": {},
   "outputs": [],
   "source": [
    "log_like_blended = -1*num_observations/2 - num_observations*np.log(mse_empirical_blended) - 1/2*(mse_empirical_blended**2)*np.sum((pivot_table['empirical'] - pivot_table['blended'])**2)\n",
    "log_like_abstraction = -1*num_observations/2 - num_observations*np.log(mse_empirical_abstraction) - 1/2*(mse_empirical_abstraction**2)*np.sum((pivot_table['empirical'] - pivot_table['abstraction'])**2)\n",
    "log_like_simulation = -1*num_observations/2 - num_observations*np.log(mse_empirical_simulation) - 1/2*(mse_empirical_simulation**2)*np.sum((pivot_table['empirical'] - pivot_table['simulation'])**2)\n",
    "\n",
    "\n",
    "\n",
    "\n",
    "\n",
    "\n",
    "\n",
    "\n",
    "\n"
   ]
  },
  {
   "cell_type": "code",
   "execution_count": 43,
   "id": "b58ba0cb",
   "metadata": {},
   "outputs": [
    {
     "data": {
      "text/plain": [
       "189.38051297487726"
      ]
     },
     "execution_count": 43,
     "metadata": {},
     "output_type": "execute_result"
    }
   ],
   "source": [
    "log_like_blended"
   ]
  },
  {
   "cell_type": "code",
   "execution_count": 44,
   "id": "ab37a806",
   "metadata": {},
   "outputs": [
    {
     "data": {
      "text/plain": [
       "183.51332501817123"
      ]
     },
     "execution_count": 44,
     "metadata": {},
     "output_type": "execute_result"
    }
   ],
   "source": [
    "log_like_abstraction"
   ]
  },
  {
   "cell_type": "code",
   "execution_count": 45,
   "id": "f55af88f",
   "metadata": {},
   "outputs": [
    {
     "data": {
      "text/plain": [
       "66.38741212074804"
      ]
     },
     "execution_count": 45,
     "metadata": {},
     "output_type": "execute_result"
    }
   ],
   "source": [
    "log_like_simulation"
   ]
  },
  {
   "cell_type": "code",
   "execution_count": null,
   "id": "ffe26066",
   "metadata": {},
   "outputs": [],
   "source": []
  },
  {
   "cell_type": "code",
   "execution_count": null,
   "id": "6f47ae3c",
   "metadata": {},
   "outputs": [],
   "source": []
  }
 ],
 "metadata": {
  "kernelspec": {
   "display_name": "Python 3 (ipykernel)",
   "language": "python",
   "name": "python3"
  },
  "language_info": {
   "codemirror_mode": {
    "name": "ipython",
    "version": 3
   },
   "file_extension": ".py",
   "mimetype": "text/x-python",
   "name": "python",
   "nbconvert_exporter": "python",
   "pygments_lexer": "ipython3",
   "version": "3.10.2"
  }
 },
 "nbformat": 4,
 "nbformat_minor": 5
}
